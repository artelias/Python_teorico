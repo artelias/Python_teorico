{
 "cells": [
  {
   "cell_type": "markdown",
   "metadata": {},
   "source": [
    "# Aula 14 (05/12/2019)"
   ]
  },
  {
   "cell_type": "code",
   "execution_count": 1,
   "metadata": {},
   "outputs": [],
   "source": [
    "import numpy as np"
   ]
  },
  {
   "cell_type": "markdown",
   "metadata": {},
   "source": [
    "## Exercícios de revisão (continuação)"
   ]
  },
  {
   "cell_type": "markdown",
   "metadata": {},
   "source": [
    "**3.4.** Faça uma função que executa o exercício 3.3 em uma simulação de Monte Carlo com $m$ repetições, armazenando os erros de estimação dos  $m$  modelos ajustados. A função deve retornar os $m$ valores de erros obtidos, sua média e seu desvio-padrão."
   ]
  },
  {
   "cell_type": "code",
   "execution_count": 71,
   "metadata": {},
   "outputs": [],
   "source": [
    "# Função de geração de números aleatórios do exercício anterior\n",
    "\n",
    "def generate_data(f, n = 2, p = 2):\n",
    "    X = np.random.random((n, p))\n",
    "    \n",
    "    y = f(X) + np.random.normal(0, 1, n)\n",
    "    \n",
    "    return X, y\n",
    "\n",
    "# Classe de modelo de regressão do exercício anterior:\n",
    "class LinearRegression:\n",
    "    def fit(self,X,y):\n",
    "        self.coef = np.linalg.inv(X.transpose() @ X) @ X.transpose() @ y\n",
    "        return self\n",
    "    \n",
    "    def predict(self, X):\n",
    "        return X @ self.coef\n",
    "    \n",
    "    def score(self, X, y):\n",
    "        return np.mean((y - self.predict(X))**2)"
   ]
  },
  {
   "cell_type": "code",
   "execution_count": 72,
   "metadata": {},
   "outputs": [],
   "source": [
    "# Argumentos:\n",
    "# m: número de repetições\n",
    "# n: tamanho dos conjuntos de cada repetição\n",
    "\n",
    "def LR_MC(m, n):\n",
    "    erros = np.zeros(m)\n",
    "    \n",
    "    f = lambda x: 2*x[:,0]**2 + 3*x[:,1] + 1\n",
    "    \n",
    "    for i in range(m):\n",
    "        # Treinamos nosso modelo de regressão linear em um conjunto de dados.\n",
    "        X_train, y_train = generate_data(f,n,2)\n",
    "        LR_train = LinearRegression().fit(X_train,y_train)\n",
    "        \n",
    "        # Estamos interessados no erro obtido na comparação de nosso modelo\n",
    "        # de regressão em um outro conjunto de dados\n",
    "        X_test, y_test = generate_data(f,n,2)\n",
    "        erros[i] = LR_train.score(X_test,y_test)\n",
    "        \n",
    "    return erros, np.mean(erros), np.std(erros)"
   ]
  },
  {
   "cell_type": "code",
   "execution_count": 75,
   "metadata": {},
   "outputs": [
    {
     "name": "stdout",
     "output_type": "stream",
     "text": [
      "Erros:  [1.73990227 0.15263589 2.22568124 1.1162401  0.48513254 1.70970077\n",
      " 0.81033775 1.10603743 1.97437938 0.86900679]\n",
      "\n",
      "Média dos erros: 1.2189054178959515\n",
      "\n",
      "Desvio padrão dos erros: 0.6391123176410289\n"
     ]
    }
   ],
   "source": [
    "np.random.seed(5122019)\n",
    "\n",
    "resultados, media, desvio = LR_MC(10, 5)\n",
    "\n",
    "print(\"Erros: \",resultados)\n",
    "print()\n",
    "print(\"Média dos erros:\",media)\n",
    "print()\n",
    "print(\"Desvio padrão dos erros:\", desvio)"
   ]
  },
  {
   "cell_type": "markdown",
   "metadata": {},
   "source": [
    "**3.5.** Faça uma função que aproxima a integral de uma função qualquer em um intervalo $[a,b]$, usando a [regra de Simpson](https://pt.wikipedia.org/wiki/Integra%C3%A7%C3%A3o_num%C3%A9rica). Use essa função em uma outra função que deve calcular  $P(X < x_{i})$, para  $i=1,…,n$, onde  $X∼N(\\mu,\\sigma^{2})$.\n",
    "\n",
    "**Regra de Simpson:**\n",
    "\n",
    "$\\large \\int_{a}^{b}$ $f(x)dx \\approx (b - a)$$\\large \\frac{f(a) + 4 f(\\frac{a + b}{2}) + f(b)}{6}$"
   ]
  },
  {
   "cell_type": "code",
   "execution_count": 77,
   "metadata": {},
   "outputs": [],
   "source": [
    "# Pela definição da integral de Simpson:\n",
    "\n",
    "def integral_simpson(f, a, b):\n",
    "    return (b - a)*(f(a) + 4*f((a + b)/2) + f(b))/6"
   ]
  },
  {
   "cell_type": "markdown",
   "metadata": {},
   "source": [
    "Testando para  $f_{1}(x) = x^{4}$  em  $[0,1]$ e  $f_{2}(x) = sen(x)$  em  $[0, \\pi]$ (analiticamente, essas integrais tem valor $\\large{\\frac{1}{5}}$  e  $2$ ): "
   ]
  },
  {
   "cell_type": "code",
   "execution_count": 78,
   "metadata": {},
   "outputs": [
    {
     "data": {
      "text/plain": [
       "(0.20833333333333334, 2.0943951023931953)"
      ]
     },
     "execution_count": 78,
     "metadata": {},
     "output_type": "execute_result"
    }
   ],
   "source": [
    "f1 = lambda x: x**4\n",
    "f2 = lambda x: np.sin(x)\n",
    "\n",
    "integral_simpson(f1, 0, 1), integral_simpson(f2, 0, np.pi)"
   ]
  },
  {
   "cell_type": "markdown",
   "metadata": {},
   "source": [
    "Para resultados mais precisos, podemos dividir o intervalo $[a,b]$ em $n$ subintervalos:"
   ]
  },
  {
   "cell_type": "code",
   "execution_count": 81,
   "metadata": {},
   "outputs": [],
   "source": [
    "def integral_simpson_n(f, a, b, n = 101):\n",
    "    \n",
    "    def integral_simpson(f, a, b):\n",
    "        return (b - a)*(f(a) + 4*f((a + b)/2) + f(b))/6\n",
    "    \n",
    "    x = np.linspace(a, b, n)\n",
    "    \n",
    "    integral = np.zeros(n -1)\n",
    "    \n",
    "    for i in range(n - 1):\n",
    "        integral[i] = integral_simpson(f, x[i], x[i + 1])\n",
    "        \n",
    "    return sum(integral)"
   ]
  },
  {
   "cell_type": "markdown",
   "metadata": {},
   "source": [
    "Testando nos mesmos exemplos de antes, espera-se resultados de precisão semelhante ou maior:"
   ]
  },
  {
   "cell_type": "code",
   "execution_count": 82,
   "metadata": {},
   "outputs": [
    {
     "data": {
      "text/plain": [
       "(0.20000000008333332, 2.0000000006764718)"
      ]
     },
     "execution_count": 82,
     "metadata": {},
     "output_type": "execute_result"
    }
   ],
   "source": [
    "integral_simpson_n(f1, 0, 1), integral_simpson_n(f2, 0, np.pi)"
   ]
  },
  {
   "cell_type": "markdown",
   "metadata": {},
   "source": [
    "Podemos usar a função da intergral de Simpson para calcular a função de distribuição acumulada (intervalo $(-\\infty,x]$ ) de uma v.a. normal.\n",
    "\n",
    "Não podemos integrar de  $-\\infty$  até  $x$ , mas temos que a prob acumulada de $-\\infty$  até  $\\mu$  é $0.5$ . Logo, podemos simplesmente aproximar a integral entre  $\\mu$  e  $x$  e somar (ou subtrair) esse valor com $0.5$ "
   ]
  },
  {
   "cell_type": "code",
   "execution_count": 83,
   "metadata": {},
   "outputs": [],
   "source": [
    "def normal_acumulada(x, mu = 0, var = 1):\n",
    "    \n",
    "    # Densidade da normal\n",
    "    f = lambda x: (np.sqrt(2*np.pi*var)**(-1))*np.exp(-((x - mu)**2)/(2*var))\n",
    "    \n",
    "    if x > mu:\n",
    "        prob = 0.5 + integral_simpson_n(f, mu, x)\n",
    "    else:\n",
    "        prob = 0.5 - integral_simpson_n(f, x, mu)\n",
    "    return prob"
   ]
  },
  {
   "cell_type": "code",
   "execution_count": 85,
   "metadata": {},
   "outputs": [
    {
     "data": {
      "text/plain": [
       "0.975002104846839"
      ]
     },
     "execution_count": 85,
     "metadata": {},
     "output_type": "execute_result"
    }
   ],
   "source": [
    "normal_acumulada(1.96)"
   ]
  },
  {
   "cell_type": "code",
   "execution_count": null,
   "metadata": {},
   "outputs": [],
   "source": []
  }
 ],
 "metadata": {
  "kernelspec": {
   "display_name": "Python 3",
   "language": "python",
   "name": "python3"
  },
  "language_info": {
   "codemirror_mode": {
    "name": "ipython",
    "version": 3
   },
   "file_extension": ".py",
   "mimetype": "text/x-python",
   "name": "python",
   "nbconvert_exporter": "python",
   "pygments_lexer": "ipython3",
   "version": "3.7.0"
  }
 },
 "nbformat": 4,
 "nbformat_minor": 2
}
