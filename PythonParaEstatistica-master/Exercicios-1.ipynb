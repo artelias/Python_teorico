{
 "cells": [
  {
   "cell_type": "markdown",
   "metadata": {},
   "source": [
    "# Exercícios"
   ]
  },
  {
   "cell_type": "markdown",
   "metadata": {},
   "source": [
    "1.1. Calcule a área de um círculo de raio 2. Assuma *pi = 3.14*."
   ]
  },
  {
   "cell_type": "code",
   "execution_count": 20,
   "metadata": {},
   "outputs": [
    {
     "data": {
      "text/plain": [
       "12.56"
      ]
     },
     "execution_count": 20,
     "metadata": {},
     "output_type": "execute_result"
    }
   ],
   "source": [
    "r = 2\n",
    "\n",
    "area = 3.14*2**2\n",
    "\n",
    "area"
   ]
  },
  {
   "cell_type": "markdown",
   "metadata": {},
   "source": [
    "1.2.  Escreva uma função que verifica se um número é par.\n",
    "Se for, imprima uma mensagem. Se não for, imprima outra mensagem."
   ]
  },
  {
   "cell_type": "code",
   "execution_count": 21,
   "metadata": {},
   "outputs": [
    {
     "name": "stdout",
     "output_type": "stream",
     "text": [
      "10 é par\n"
     ]
    }
   ],
   "source": [
    "def verifica_par(x):\n",
    "    if x%2 == 0:\n",
    "        print(x,\"é par\")\n",
    "    else:\n",
    "        print(x,'é ímpar.')\n",
    "\n",
    "verifica_par(10)"
   ]
  },
  {
   "cell_type": "markdown",
   "metadata": {},
   "source": [
    "1.3. No exercício acima, se o número for par, verifique se ele é múltiplo de 4. Se for, exiba uma mensagem diferente."
   ]
  },
  {
   "cell_type": "code",
   "execution_count": 3,
   "metadata": {},
   "outputs": [
    {
     "name": "stdout",
     "output_type": "stream",
     "text": [
      "36 é múltiplo de 4.\n"
     ]
    }
   ],
   "source": [
    "def verifica_4(x):\n",
    "    if(x%2 == 0):\n",
    "        if x%4 == 0:\n",
    "            print(x,\"é múltiplo de 4.\")\n",
    "        else:\n",
    "            print(x,\"é par\")\n",
    "    else:\n",
    "        print(x,'é ímpar.')\n",
    "\n",
    "verifica_4(36)"
   ]
  },
  {
   "cell_type": "markdown",
   "metadata": {},
   "source": [
    "1.4. Escreva um código que imprima os elementos menores que 5 na seguinte lista:"
   ]
  },
  {
   "cell_type": "code",
   "execution_count": 6,
   "metadata": {},
   "outputs": [
    {
     "data": {
      "text/plain": [
       "[1, 4, 2, 3, 2, 1, -1, 0]"
      ]
     },
     "execution_count": 6,
     "metadata": {},
     "output_type": "execute_result"
    }
   ],
   "source": [
    "a = [1, 4, 2, 3, 2, 1, 5, 8, 5, 7, -1, 0, 23]\n",
    "\n",
    "b = []\n",
    "\n",
    "for i in a:\n",
    "    if i < 5:\n",
    "        b.append(i)\n",
    "        \n",
    "b"
   ]
  },
  {
   "cell_type": "markdown",
   "metadata": {},
   "source": [
    "1.5. Escreva um código que encontra todos os divisores do número 42."
   ]
  },
  {
   "cell_type": "code",
   "execution_count": 23,
   "metadata": {},
   "outputs": [],
   "source": [
    "lista = list(range(1,43))\n",
    "divisores = []\n",
    "\n",
    "while lista:\n",
    "    aux = lista.pop(0)\n",
    "    if 42%aux == 0:\n",
    "        divisores.append(aux)\n",
    "divisores"
   ]
  },
  {
   "cell_type": "markdown",
   "metadata": {},
   "source": [
    "1.6. Calcule a multiplicação das duas matrizes abaixo sem usar laços:"
   ]
  },
  {
   "cell_type": "code",
   "execution_count": 5,
   "metadata": {},
   "outputs": [
    {
     "data": {
      "text/plain": [
       "[[7, 6], [10, 4]]"
      ]
     },
     "execution_count": 5,
     "metadata": {},
     "output_type": "execute_result"
    }
   ],
   "source": [
    "a = [[2, 3], [4, 2]]\n",
    "b = [[2, 0], [1, 2]]\n",
    "\n",
    "ab = [[a[0][0]*b[0][0] + a[0][1]*b[1][0], a[0][0]*b[0][1] + a[0][1]*b[1][1]],\n",
    "     [a[1][0]*b[0][0] + a[1][1]*b[1][0], a[1][0]*b[0][1] + a[1][1]*b[1][1]]]\n",
    "\n",
    "ab"
   ]
  },
  {
   "cell_type": "markdown",
   "metadata": {},
   "source": [
    "1.7. Calcule a multiplicação das duas matrizes acima usando laços"
   ]
  },
  {
   "cell_type": "code",
   "execution_count": 10,
   "metadata": {},
   "outputs": [
    {
     "data": {
      "text/plain": [
       "[[14, 12], [20, 8]]"
      ]
     },
     "execution_count": 10,
     "metadata": {},
     "output_type": "execute_result"
    }
   ],
   "source": [
    "a = [[2, 3], [4, 2]]\n",
    "b = [[2, 0], [1, 2]]\n",
    "\n",
    "ab = [[0,0],[0,0]]\n",
    "\n",
    "for i in range(0,len(a)):\n",
    "    for j in range(0,len(a)):\n",
    "        for k in range(0,len(a)):\n",
    "                ab[i][j] += a[i][k]*b[k][j]\n",
    "ab"
   ]
  },
  {
   "cell_type": "markdown",
   "metadata": {},
   "source": [
    "1.8. Calcule o fatorial de 5 usando algum tipo de laço."
   ]
  },
  {
   "cell_type": "code",
   "execution_count": 19,
   "metadata": {},
   "outputs": [
    {
     "name": "stdout",
     "output_type": "stream",
     "text": [
      "O fatorial de 5 é 120\n"
     ]
    }
   ],
   "source": [
    "n = 5\n",
    "\n",
    "f = 1\n",
    "for i in range(1,n+1):\n",
    "    f *=i\n",
    "\n",
    "print('O fatorial de',n,'é',f)"
   ]
  },
  {
   "cell_type": "markdown",
   "metadata": {},
   "source": [
    "1.9. Dada uma variável $X \\sim N(0, 4)$, calcule o valor da fdp para o valor 2."
   ]
  },
  {
   "cell_type": "code",
   "execution_count": 28,
   "metadata": {},
   "outputs": [
    {
     "data": {
      "text/plain": [
       "0.12098535177182439"
      ]
     },
     "execution_count": 28,
     "metadata": {},
     "output_type": "execute_result"
    }
   ],
   "source": [
    "x = 2\n",
    "\n",
    "def densidade_normal(x):\n",
    "    pi = 3.141593\n",
    "    e = 2.718282\n",
    "    return (1/(2*pi*4)**0.5)*e**(-(x**2)/(2*4))\n",
    "\n",
    "densidade_normal(2)"
   ]
  },
  {
   "cell_type": "markdown",
   "metadata": {},
   "source": [
    "1.10. Calcule a distância Euclidiana dos seguintes vetores:"
   ]
  },
  {
   "cell_type": "code",
   "execution_count": 11,
   "metadata": {},
   "outputs": [
    {
     "data": {
      "text/plain": [
       "5.0"
      ]
     },
     "execution_count": 11,
     "metadata": {},
     "output_type": "execute_result"
    }
   ],
   "source": [
    "a, b = [1, 0, 1], [-1, 2, 3]\n",
    "\n",
    "\n",
    "d = pow((a[0] - b[0])**2 + (a[1] - b[1])**2 + (a[2] - b[2])**2, 0.5)\n",
    "\n",
    "d"
   ]
  },
  {
   "cell_type": "markdown",
   "metadata": {},
   "source": [
    "1.11. Imprima as potências de 2, começando em $2^0$, enquanto o resultado for menor do que 2000."
   ]
  },
  {
   "cell_type": "code",
   "execution_count": 12,
   "metadata": {},
   "outputs": [
    {
     "name": "stdout",
     "output_type": "stream",
     "text": [
      "1\n",
      "2\n",
      "4\n",
      "8\n",
      "16\n",
      "32\n",
      "64\n",
      "128\n",
      "256\n",
      "512\n",
      "1024\n"
     ]
    }
   ],
   "source": [
    "p = 1\n",
    "while p < 2000:\n",
    "    print(p)\n",
    "    p *= 2"
   ]
  },
  {
   "cell_type": "markdown",
   "metadata": {},
   "source": [
    "1.12. Verifique se o número 79 é primo."
   ]
  },
  {
   "cell_type": "code",
   "execution_count": 14,
   "metadata": {},
   "outputs": [
    {
     "name": "stdout",
     "output_type": "stream",
     "text": [
      "79 é primo.\n"
     ]
    }
   ],
   "source": [
    "n = 79\n",
    "\n",
    "d = 0\n",
    "for i in range(1,n+1):\n",
    "    if n%i == 0:\n",
    "        d += 1\n",
    "if d == 2:\n",
    "    print(n,'é primo.')\n",
    "else:\n",
    "    print(n,'não é primo')"
   ]
  },
  {
   "cell_type": "markdown",
   "metadata": {},
   "source": [
    "1.13. Escreva uma linha de código Python que gere uma lista apenas com os valores divisíveis por 2 e por 5 na lista abaixo:"
   ]
  },
  {
   "cell_type": "code",
   "execution_count": 12,
   "metadata": {},
   "outputs": [
    {
     "data": {
      "text/plain": [
       "[10, 20, 30]"
      ]
     },
     "execution_count": 12,
     "metadata": {},
     "output_type": "execute_result"
    }
   ],
   "source": [
    "a = [1, 4, 10, 13, 15, 16, 20, 28, 30]\n",
    "\n",
    "div = []\n",
    "for i in a:\n",
    "    if i%10 == 0:\n",
    "        div.append(i)\n",
    "    \n",
    "div"
   ]
  },
  {
   "cell_type": "markdown",
   "metadata": {},
   "source": [
    "1.14. Escreva um laço que resulte no sétimo elemento da [sequência de Fibonacci](https://pt.wikipedia.org/wiki/Sequ%C3%AAncia_de_Fibonacci) (lembrando que em Python os índices começam em 0):"
   ]
  },
  {
   "cell_type": "code",
   "execution_count": 14,
   "metadata": {},
   "outputs": [
    {
     "data": {
      "text/plain": [
       "13"
      ]
     },
     "execution_count": 14,
     "metadata": {},
     "output_type": "execute_result"
    }
   ],
   "source": [
    "fib = []\n",
    "\n",
    "for i in range(8):\n",
    "    if i == 0:\n",
    "        fib.append(0)\n",
    "    elif i == 1:\n",
    "        fib.append(1)\n",
    "    else:\n",
    "        fib.append(fib[i-1] + fib[i - 2])\n",
    "fib[7]"
   ]
  },
  {
   "cell_type": "markdown",
   "metadata": {},
   "source": [
    "1.15. Escreva uma função que calcule o raio de um círculo, dado um valor de raio. Peça um valor de raio ao usuário e calcule o valor da função."
   ]
  },
  {
   "cell_type": "code",
   "execution_count": 19,
   "metadata": {},
   "outputs": [
    {
     "name": "stdout",
     "output_type": "stream",
     "text": [
      "Informe o raio de um círculo: 1\n"
     ]
    },
    {
     "data": {
      "text/plain": [
       "3.141593"
      ]
     },
     "execution_count": 19,
     "metadata": {},
     "output_type": "execute_result"
    }
   ],
   "source": [
    "def raio():\n",
    "    x = int(input(\"Informe o raio de um círculo: \"))\n",
    "    return 3.141593*x**2\n",
    "\n",
    "raio()"
   ]
  },
  {
   "cell_type": "markdown",
   "metadata": {},
   "source": [
    "1.16. Escreva uma função que recebe uma lista e um valor e retorna uma sub-lista apenas com os elementos menores do que o valor fornecido."
   ]
  },
  {
   "cell_type": "code",
   "execution_count": 33,
   "metadata": {},
   "outputs": [
    {
     "data": {
      "text/plain": [
       "[12, 34, 13, 38, 15]"
      ]
     },
     "execution_count": 33,
     "metadata": {},
     "output_type": "execute_result"
    }
   ],
   "source": [
    "def menores(a,x):\n",
    "    m = []\n",
    "    for i in a:\n",
    "        if i < x:\n",
    "            m.append(i)\n",
    "    return m\n",
    "\n",
    "lista = [12,34,56,85,13,38,57,89,15]\n",
    "menores(lista,50)"
   ]
  },
  {
   "cell_type": "markdown",
   "metadata": {},
   "source": [
    "1.17. Escreva uma função que calcula a multiplicação de duas matrizes usando laços, mas apenas se as dimensões das matrizes forem compatíveis."
   ]
  },
  {
   "cell_type": "code",
   "execution_count": 40,
   "metadata": {},
   "outputs": [
    {
     "ename": "IndexError",
     "evalue": "list index out of range",
     "output_type": "error",
     "traceback": [
      "\u001b[1;31m---------------------------------------------------------------------------\u001b[0m",
      "\u001b[1;31mIndexError\u001b[0m                                Traceback (most recent call last)",
      "\u001b[1;32m<ipython-input-40-ad1973dbd5ad>\u001b[0m in \u001b[0;36m<module>\u001b[1;34m()\u001b[0m\n\u001b[0;32m     19\u001b[0m \u001b[0mb\u001b[0m \u001b[1;33m=\u001b[0m \u001b[1;33m[\u001b[0m\u001b[1;33m[\u001b[0m\u001b[1;36m2\u001b[0m\u001b[1;33m,\u001b[0m \u001b[1;36m0\u001b[0m\u001b[1;33m]\u001b[0m\u001b[1;33m,\u001b[0m \u001b[1;33m[\u001b[0m\u001b[1;36m1\u001b[0m\u001b[1;33m,\u001b[0m \u001b[1;36m2\u001b[0m\u001b[1;33m]\u001b[0m\u001b[1;33m]\u001b[0m\u001b[1;33m\u001b[0m\u001b[0m\n\u001b[0;32m     20\u001b[0m \u001b[1;33m\u001b[0m\u001b[0m\n\u001b[1;32m---> 21\u001b[1;33m \u001b[0mmult_matriz\u001b[0m\u001b[1;33m(\u001b[0m\u001b[0ma\u001b[0m\u001b[1;33m,\u001b[0m\u001b[0mb\u001b[0m\u001b[1;33m)\u001b[0m\u001b[1;33m\u001b[0m\u001b[0m\n\u001b[0m",
      "\u001b[1;32m<ipython-input-40-ad1973dbd5ad>\u001b[0m in \u001b[0;36mmult_matriz\u001b[1;34m(A, B)\u001b[0m\n\u001b[0;32m     10\u001b[0m                 \u001b[1;32mfor\u001b[0m \u001b[0mk\u001b[0m \u001b[1;32min\u001b[0m \u001b[0mrange\u001b[0m\u001b[1;33m(\u001b[0m\u001b[1;36m0\u001b[0m\u001b[1;33m,\u001b[0m\u001b[0mlen\u001b[0m\u001b[1;33m(\u001b[0m\u001b[0mA\u001b[0m\u001b[1;33m)\u001b[0m\u001b[1;33m)\u001b[0m\u001b[1;33m:\u001b[0m\u001b[1;33m\u001b[0m\u001b[0m\n\u001b[0;32m     11\u001b[0m                     \u001b[0mc\u001b[0m \u001b[1;33m+=\u001b[0m \u001b[0mA\u001b[0m\u001b[1;33m[\u001b[0m\u001b[0mi\u001b[0m\u001b[1;33m]\u001b[0m\u001b[1;33m[\u001b[0m\u001b[0mk\u001b[0m\u001b[1;33m]\u001b[0m\u001b[1;33m*\u001b[0m\u001b[0mB\u001b[0m\u001b[1;33m[\u001b[0m\u001b[0mk\u001b[0m\u001b[1;33m]\u001b[0m\u001b[1;33m[\u001b[0m\u001b[0mj\u001b[0m\u001b[1;33m]\u001b[0m\u001b[1;33m\u001b[0m\u001b[0m\n\u001b[1;32m---> 12\u001b[1;33m                 \u001b[0mC\u001b[0m\u001b[1;33m[\u001b[0m\u001b[0mi\u001b[0m\u001b[1;33m]\u001b[0m\u001b[1;33m.\u001b[0m\u001b[0mappend\u001b[0m\u001b[1;33m(\u001b[0m\u001b[0mc\u001b[0m\u001b[1;33m)\u001b[0m\u001b[1;33m\u001b[0m\u001b[0m\n\u001b[0m\u001b[0;32m     13\u001b[0m         \u001b[1;32mreturn\u001b[0m \u001b[0mC\u001b[0m\u001b[1;33m\u001b[0m\u001b[0m\n\u001b[0;32m     14\u001b[0m     \u001b[1;32melse\u001b[0m\u001b[1;33m:\u001b[0m\u001b[1;33m\u001b[0m\u001b[0m\n",
      "\u001b[1;31mIndexError\u001b[0m: list index out of range"
     ]
    }
   ],
   "source": [
    "\n",
    "ab = [[0,0],[0,0]]\n",
    "\n",
    "def mult_matriz(A,B):\n",
    "    if (len(A[0]) == len(B)):\n",
    "        C = []\n",
    "        for i in range(0,len(A)):\n",
    "            for j in range(0,len(B[0])):\n",
    "                c = 0\n",
    "                for k in range(0,len(A)):\n",
    "                    c += A[i][k]*B[k][j]\n",
    "                C[i].append(c)\n",
    "        return C\n",
    "    else:\n",
    "        print(\"As dimensões das matrizes não permitem o produto matricial.\")\n",
    "        return 0\n",
    "\n",
    "a = [[2, 3], [4, 2]]\n",
    "b = [[2, 0], [1, 2]]\n",
    "\n",
    "mult_matriz(a,b)"
   ]
  },
  {
   "cell_type": "markdown",
   "metadata": {},
   "source": [
    "1.18. Escreva uma função que recebe um número e valores de média e de variância e calcula a fdp das distribuições normais correspondentes às médias e às variâncias fornecidas."
   ]
  },
  {
   "cell_type": "code",
   "execution_count": 30,
   "metadata": {},
   "outputs": [
    {
     "data": {
      "text/plain": [
       "0.17603265228836176"
      ]
     },
     "execution_count": 30,
     "metadata": {},
     "output_type": "execute_result"
    }
   ],
   "source": [
    "def densidade_normal(x, mi, var):\n",
    "    pi = 3.141593\n",
    "    e = 2.718282\n",
    "    return (1/(2*pi*var)**0.5)*e**(-((x - mi)**2)/(2*var))\n",
    "\n",
    "densidade_normal(3,2,4)"
   ]
  },
  {
   "cell_type": "markdown",
   "metadata": {},
   "source": [
    "1.19. Escreva uma função que verifica se um número é primo."
   ]
  },
  {
   "cell_type": "code",
   "execution_count": 23,
   "metadata": {},
   "outputs": [
    {
     "name": "stdout",
     "output_type": "stream",
     "text": [
      "2 é primo.\n",
      "3 é primo.\n",
      "4 não é primo.\n",
      "5 é primo.\n",
      "6 não é primo.\n",
      "7 é primo.\n"
     ]
    }
   ],
   "source": [
    "def primo(x):\n",
    "    div = []\n",
    "    for i in range(2,x):\n",
    "        if x%i == 0:\n",
    "            div.append(i)\n",
    "    if div:\n",
    "        print(x,'não é primo.')\n",
    "    else:\n",
    "        print(x,'é primo.')\n",
    "\n",
    "primo(2)\n",
    "primo(3)\n",
    "primo(4)\n",
    "primo(5)\n",
    "primo(6)\n",
    "primo(7)"
   ]
  },
  {
   "cell_type": "markdown",
   "metadata": {},
   "source": [
    "1.20. Faça uma função que retorna todos os divisores de um número."
   ]
  },
  {
   "cell_type": "code",
   "execution_count": 27,
   "metadata": {},
   "outputs": [
    {
     "data": {
      "text/plain": [
       "[2, 3, 4, 6, 9, 12, 18, 36, 37, 74, 111, 148, 222, 333, 444, 666]"
      ]
     },
     "execution_count": 27,
     "metadata": {},
     "output_type": "execute_result"
    }
   ],
   "source": [
    "def divisores(x):\n",
    "    div = []\n",
    "    for i in range(2,x):\n",
    "        if x%i == 0:\n",
    "            div.append(i)\n",
    "    return div\n",
    "\n",
    "divisores(1332)"
   ]
  },
  {
   "cell_type": "markdown",
   "metadata": {},
   "source": [
    "1.21. Faça uma função que calcula o fatorial de um número."
   ]
  },
  {
   "cell_type": "code",
   "execution_count": 31,
   "metadata": {},
   "outputs": [
    {
     "data": {
      "text/plain": [
       "720"
      ]
     },
     "execution_count": 31,
     "metadata": {},
     "output_type": "execute_result"
    }
   ],
   "source": [
    "def fat(n):\n",
    "    if n == 0 or n == 1:\n",
    "        return 1\n",
    "    else:\n",
    "        return n*fat(n - 1)\n",
    "    \n",
    "fat(6)"
   ]
  },
  {
   "cell_type": "markdown",
   "metadata": {},
   "source": [
    "1.22. Faça uma função que calcula  P(X=x) , tal que  X∼Binomial(n,p) . Escreva uma função auxiliar que calcula  (nx)  para chamar na função principal.\n",
    "    "
   ]
  },
  {
   "cell_type": "code",
   "execution_count": 27,
   "metadata": {},
   "outputs": [
    {
     "data": {
      "text/plain": [
       "0.375"
      ]
     },
     "execution_count": 27,
     "metadata": {},
     "output_type": "execute_result"
    }
   ],
   "source": [
    "def fat(n):\n",
    "    if n == 0 or n == 1:\n",
    "        return 1\n",
    "    else:\n",
    "        return n*fat(n - 1)\n",
    "\n",
    "def prob_binomial(N,p,x):\n",
    "    prob = (fat(N)/(fat(x)*fat(N - x)))*(p**x)*((1-p)**(N-x))    \n",
    "    return prob\n",
    "\n",
    "prob_binomial(3,0.5,2)"
   ]
  },
  {
   "cell_type": "markdown",
   "metadata": {},
   "source": [
    "1.23. Escreva uma função que calcula  P(X=x)  ou  P(X<=x)  (o usuário escolhe), tal que  X∼Binomial(n,p) ."
   ]
  },
  {
   "cell_type": "code",
   "execution_count": 26,
   "metadata": {},
   "outputs": [
    {
     "data": {
      "text/plain": [
       "0.875"
      ]
     },
     "execution_count": 26,
     "metadata": {},
     "output_type": "execute_result"
    }
   ],
   "source": [
    "def fat(n):\n",
    "    if n == 0 or n == 1:\n",
    "        return 1\n",
    "    else:\n",
    "        return n*fat(n - 1)\n",
    "       \n",
    "def prob_bin_acum(N,p,x):  \n",
    "    if x < 0 or x > N:\n",
    "        return 0    \n",
    "    prob = (fat(N)/(fat(x)*fat(N - x)))*(p**x)*((1-p)**(N-x))\n",
    "    return prob + prob_bin_acum(N,p,x - 1)\n",
    "\n",
    "prob_bin_acum(3,0.5,2)"
   ]
  },
  {
   "cell_type": "markdown",
   "metadata": {},
   "source": [
    "1.24. Escreva uma função que recebe uma lista, um valor e uma função de comparação e retorna uma sub-lista apenas com os elementos para os quais a função fornecida retorna True"
   ]
  },
  {
   "cell_type": "code",
   "execution_count": null,
   "metadata": {},
   "outputs": [],
   "source": []
  },
  {
   "cell_type": "markdown",
   "metadata": {},
   "source": [
    "1.25. (Desafio: Recursão). Recursão é uma abordagem para solucionar problemas que envolve dividir a tarefa em partes menores do mesmo tipo, i.e. é uma abordagem do tipo dividir-para-conquistar. Do ponto de vista computacional, um problema resolvido usando recursão envolve uma função que chama a si mesma até que o problema seja resolvido. Uma parte importante desse tipo de solução é a definição do ponto de parada da recursão, quando a função para de chamar a si mesma e começar a retornar os valores para as chamadas mais \"acima\". Vejamos um exemplo de recursão para o cálculo do fatorial de um número n:"
   ]
  },
  {
   "cell_type": "code",
   "execution_count": 4,
   "metadata": {},
   "outputs": [
    {
     "data": {
      "text/plain": [
       "(1, 1, 120)"
      ]
     },
     "execution_count": 4,
     "metadata": {},
     "output_type": "execute_result"
    }
   ],
   "source": [
    "def factorial(n):\n",
    "    if n == 0:\n",
    "        return 1\n",
    "    else:\n",
    "        return n * factorial(n - 1)\n",
    "\n",
    "factorial(0), factorial(1), factorial(5)"
   ]
  },
  {
   "cell_type": "markdown",
   "metadata": {},
   "source": [
    "Agora implemente uma função recursiva que recebe um número e retorna o número correspondente na sequência de Fibonacci."
   ]
  },
  {
   "cell_type": "code",
   "execution_count": 5,
   "metadata": {},
   "outputs": [
    {
     "name": "stdout",
     "output_type": "stream",
     "text": [
      "0\n",
      "1\n",
      "1\n",
      "2\n",
      "3\n",
      "5\n",
      "8\n",
      "13\n",
      "21\n",
      "34\n"
     ]
    }
   ],
   "source": [
    "def fibonacci(n):\n",
    "    if n == 0:\n",
    "        return 0\n",
    "    elif n == 1:\n",
    "        return 1\n",
    "    else:\n",
    "        return fibonacci(n - 1) + fibonacci(n - 2)\n",
    "\n",
    "for i in range(0,10):\n",
    "    print(fibonacci(i))"
   ]
  },
  {
   "cell_type": "code",
   "execution_count": null,
   "metadata": {},
   "outputs": [],
   "source": []
  }
 ],
 "metadata": {
  "kernelspec": {
   "display_name": "Python 3",
   "language": "python",
   "name": "python3"
  },
  "language_info": {
   "codemirror_mode": {
    "name": "ipython",
    "version": 3
   },
   "file_extension": ".py",
   "mimetype": "text/x-python",
   "name": "python",
   "nbconvert_exporter": "python",
   "pygments_lexer": "ipython3",
   "version": "3.7.0"
  }
 },
 "nbformat": 4,
 "nbformat_minor": 2
}
