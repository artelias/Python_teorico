{
 "cells": [
  {
   "cell_type": "markdown",
   "metadata": {},
   "source": [
    "# Aula 05"
   ]
  },
  {
   "cell_type": "markdown",
   "metadata": {},
   "source": [
    "## Algoritmos de ordenação (continuação)"
   ]
  },
  {
   "cell_type": "markdown",
   "metadata": {},
   "source": [
    "## Exercícios"
   ]
  },
  {
   "cell_type": "markdown",
   "metadata": {},
   "source": [
    "**1.29. (Algoritmo de ordenação: Merge sort).** Usa a abordagem dividir para conquistar, aproveitando-se da facilidade de unir duas listas ordenadas em uma nova lista. O algoritmo divide a lista em n listas, cada uma com um elemeno. Uma lista com 1 elemento é considerada ordenada. Depois, o algoritmo repetidamente une arrays adjacentes, produzindo novos arrays ordenados, até que o único array restante contenha todos os elementos ordenados. Para unir dois arrays ordenados, o algoritmo seleciona o menor elemento de cada array e os compara, colocando o menor na primeira posição livre do novo array, e comparando o elemento que sobrou com o novo menor elemento do outro array e assim sucessivamente. Implemente uma função que recebe uma lista e retorna seus elementos ordenados usando o algoritmo *merge sort*.\n",
    "."
   ]
  },
  {
   "cell_type": "code",
   "execution_count": 3,
   "metadata": {},
   "outputs": [
    {
     "data": {
      "text/plain": [
       "[-5, -4, -3, -2, -1, 0, 1, 2, 3, 5]"
      ]
     },
     "execution_count": 3,
     "metadata": {},
     "output_type": "execute_result"
    }
   ],
   "source": [
    "def merge_sort(lista):\n",
    "    \n",
    "    if len(lista) == 1:\n",
    "        return lista\n",
    "    \n",
    "    middle = len(lista)//2\n",
    "    \n",
    "    left_list = lista[:middle]\n",
    "    right_list = lista[middle:]\n",
    "    \n",
    "    left_list = merge_sort(left_list)\n",
    "    right_list = merge_sort(right_list)\n",
    "    \n",
    "    i,j,k = 0,0,0\n",
    "    \n",
    "    while i < len(left_list) and j < len(right_list):\n",
    "        if left_list[i] < right_list[j]:\n",
    "            lista[k] = left_list[i]\n",
    "            i += 1\n",
    "        else:\n",
    "            lista[k] = right_list[j]\n",
    "            j += 1\n",
    "        k += 1\n",
    "        \n",
    "    while i < len(left_list):\n",
    "        lista[k] = left_list[i]\n",
    "        i += 1\n",
    "        k += 1\n",
    "        \n",
    "    while j < len(right_list):\n",
    "        lista[k] = right_list[j]\n",
    "        j += 1\n",
    "        k += 1\n",
    "\n",
    "    return lista\n",
    "\n",
    "merge_sort([3,1,0,-2,-3,5,-4,-1,2,-5])"
   ]
  },
  {
   "cell_type": "markdown",
   "metadata": {},
   "source": [
    "**1.30. (Algoritmo de ordenação: Quicksort).** Assim como o *merge sort*, o *quicksort* é um algoritmo que usa a abordagem dividir para conquistar, mais especificamente, uma abordagem de partição. O algoritmo seleciona um elemento, chamado de pivô, e coloca todos os elementos menores do que o pivô antes dele e todos os maiores depois dele. Os dois sub-arrays são então recursivamente ordenados, seguindo o mesmo processo. Implementações eficientes do quicksort estão entre os algoritmos de ordenação mais rápidos na prática. Implemente uma função que recebe uma lista e retorna seus elementos ordenados usando o algoritmo *quicksort*."
   ]
  },
  {
   "cell_type": "code",
   "execution_count": 2,
   "metadata": {},
   "outputs": [
    {
     "data": {
      "text/plain": [
       "[-5, -4, -3, -2, -1, 0, 1, 2, 3, 4, 5]"
      ]
     },
     "execution_count": 2,
     "metadata": {},
     "output_type": "execute_result"
    }
   ],
   "source": [
    "def quick_sort(lista, ini, end):\n",
    "    \n",
    "    i = ini\n",
    "    j = end\n",
    "    index_pivot = (ini + end)//2\n",
    "    pivot = lista[index_pivot]\n",
    "    \n",
    "    while i <= j:\n",
    "        while lista[i] < pivot:\n",
    "            i += 1\n",
    "        while lista[j] > pivot:\n",
    "            j -= 1\n",
    "        if i <= j:\n",
    "            aux = lista[i]\n",
    "            lista[i] = lista[j]\n",
    "            lista[j] = aux\n",
    "            i += 1\n",
    "            j -= 1\n",
    "    if ini < j:\n",
    "        quick_sort(lista,ini,j)\n",
    "    if i< end:\n",
    "        quick_sort(lista,i,end)\n",
    "        \n",
    "    return lista\n",
    "\n",
    "a = [4,3,-3,1,0,5,-5,-2,-4,2,-1]\n",
    "quick_sort(a, 0, len(a) - 1)    "
   ]
  },
  {
   "cell_type": "code",
   "execution_count": null,
   "metadata": {},
   "outputs": [],
   "source": []
  }
 ],
 "metadata": {
  "kernelspec": {
   "display_name": "Python 3",
   "language": "python",
   "name": "python3"
  },
  "language_info": {
   "codemirror_mode": {
    "name": "ipython",
    "version": 3
   },
   "file_extension": ".py",
   "mimetype": "text/x-python",
   "name": "python",
   "nbconvert_exporter": "python",
   "pygments_lexer": "ipython3",
   "version": "3.7.0"
  }
 },
 "nbformat": 4,
 "nbformat_minor": 2
}
