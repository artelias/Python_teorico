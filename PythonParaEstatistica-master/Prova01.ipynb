{
 "cells": [
  {
   "cell_type": "markdown",
   "metadata": {},
   "source": [
    "# 1ª Avaliação de Programação Estatística com Python - 10/12/2019\n",
    "\n",
    "- Nome: Matteus Silvestre Maciel Das Neves Carvalho\n",
    "- Matrícula: 20180005860\n",
    "\n",
    "**Questão 1 (1,0 ponto)** Implemente uma função que gere $C$ matrizes $\\mathbf{X}_c^{n_c \\times p}$, $c = 1, \\ldots, C$, aleatoriamente, onde $n_c$ é a quantidade de linhas da matriz $\\mathbf{X}_c$. As $p$ colunas de cada matriz $\\mathbf{X}_c$ devem ser sorteadas de distribuições normais com médias e variâncias diferentes. A função deve então concatenar todas as matrizes geradas e retornar a matriz $\\mathbf{X}^{n \\times p}$, onde $n = \\sum_{c=1}^C n_c$.    \n",
    "__Dica 1__: A função pode receber como parâmetros uma lista com a quantidade de linhas de cada matriz $\\mathbf{X}_c$, uma lista com as médias das normais usadas para gerar as colunas de cada matriz e outra lista com as variâncias correspondentes.    \n",
    "__Dica 2__: considere usar a função *numpy.random.multivariate_normal*."
   ]
  },
  {
   "cell_type": "code",
   "execution_count": 1,
   "metadata": {},
   "outputs": [],
   "source": [
    "import numpy as np"
   ]
  },
  {
   "cell_type": "code",
   "execution_count": 2,
   "metadata": {},
   "outputs": [],
   "source": [
    "def multiv_normal_matrix(n, means, covs):\n",
    "    # A primeira matriz\n",
    "    X = np.random.multivariate_normal(means[0], covs[0], size = n[0])\n",
    "    # Caso C > 1, gerar mais matrizes e concatená-las\n",
    "    # sucessivamente com a primeira:\n",
    "    for i in range(1,len(n)):\n",
    "        X_c = np.random.multivariate_normal(means[i], covs[i], size = n[i])\n",
    "        X = np.vstack((X, X_c))\n",
    "    return X"
   ]
  },
  {
   "cell_type": "markdown",
   "metadata": {},
   "source": [
    "Exemplo:"
   ]
  },
  {
   "cell_type": "code",
   "execution_count": 3,
   "metadata": {},
   "outputs": [
    {
     "name": "stdout",
     "output_type": "stream",
     "text": [
      "[[  0.18544677   3.44532934   9.8875874 ]\n",
      " [ -0.88329932   4.40609639  10.09076111]\n",
      " [ -1.30690015   6.34527367   8.98891742]\n",
      " [ -3.26805774  -0.11190506   3.99637801]\n",
      " [ -7.03039126  -0.31730128   4.19356572]\n",
      " [ -2.42656416   0.14895415   4.6408355 ]\n",
      " [ -3.52520519   0.82861773   5.17268383]\n",
      " [  9.39943971  -3.87473391 -10.83395248]\n",
      " [ 10.52442769  -3.31386615  -8.67614233]]\n"
     ]
    }
   ],
   "source": [
    "# Fixando a semente para garantir a replicabilidade\n",
    "# dos resultados\n",
    "np.random.seed(7122019)\n",
    "\n",
    "# Quantidade nc de linhas das matrizes, médias das v.a.s\n",
    "# normais e matrizes de covariância:\n",
    "nc = [3,4,2]\n",
    "means = [[0, 5, 10], [-5, 0, 5], [10, -5, -10]]\n",
    "covs = np.array([[[1, 0, 0], [0, 4, 0], [0, 0, 0.5]],\n",
    "                [[9,0,0], [0, 1, 0], [0, 0, 9]],\n",
    "                [[0.5, 0, 0], [0, 9, 0], [0, 0, 0.5]]])\n",
    "\n",
    "X = multiv_normal_matrix(nc, means, covs)\n",
    "print(X)"
   ]
  },
  {
   "cell_type": "markdown",
   "metadata": {},
   "source": [
    "**Questão 2 (1,0 ponto)** Faça uma função que recebe uma matriz $\\mathbf{X}^{n \\times p}$ e um inteiro $k$ e retorna uma matriz $W^{k \\times p}$, cujas linhas foram selecionadas aleatoriamente e sem reposição de $\\mathbf{X}^{n \\times p}$."
   ]
  },
  {
   "cell_type": "code",
   "execution_count": 4,
   "metadata": {},
   "outputs": [],
   "source": [
    "def rsample(X, k):\n",
    "    # Gera-se uma matriz Y, cópia de X\n",
    "    Y = X.copy()\n",
    "    # Reordena-se as linhas de X\n",
    "    np.random.shuffle(Y)\n",
    "    # Retorna-se as k primeiras linhas\n",
    "    W = Y[0:k]\n",
    "    return W"
   ]
  },
  {
   "cell_type": "markdown",
   "metadata": {},
   "source": [
    "Exemplo:"
   ]
  },
  {
   "cell_type": "code",
   "execution_count": 5,
   "metadata": {},
   "outputs": [
    {
     "name": "stdout",
     "output_type": "stream",
     "text": [
      "[[ 1  2  3]\n",
      " [ 4  5  6]\n",
      " [ 7  8  9]\n",
      " [10 11 12]]\n",
      "\n",
      "[[ 7  8  9]\n",
      " [10 11 12]]\n"
     ]
    }
   ],
   "source": [
    "np.random.seed(7122019)\n",
    "X = np.array([[1, 2, 3], [4, 5, 6], [7, 8, 9], [10, 11, 12]])\n",
    "W = rsample(X,2)\n",
    "\n",
    "print(X)\n",
    "print()\n",
    "print(W)"
   ]
  },
  {
   "cell_type": "markdown",
   "metadata": {},
   "source": [
    "**Questão 3 (1,0 ponto)** Faça uma função que recebe duas matrizes $\\mathbf{X}^{n \\times p}$ e $\\mathbf{W}^{k \\times p}$ e retorna a matriz de distâncias Euclidianas $\\mathbf{D}^{n \\times k}$ entre as linhas de $\\mathbf{X}$ e as de $\\mathbf{W}$."
   ]
  },
  {
   "cell_type": "code",
   "execution_count": 6,
   "metadata": {},
   "outputs": [],
   "source": [
    "def dist_matrix(X, W):\n",
    "    # Obtem-se as dimensões de X e W\n",
    "    n = np.shape(X)[0]\n",
    "    k = np.shape(W)[0]\n",
    "    p = np.shape(X)[1]\n",
    "    # Gera-se uma matriz D de zeros\n",
    "    D = np.zeros((n, k))\n",
    "    \n",
    "    for l_x in range(n):\n",
    "        for l_w in range(k):\n",
    "            for coluna in range(p):\n",
    "                D[l_x, l_w] += (X[l_x, coluna] - W[l_w, coluna])**2\n",
    "    return D**(1/2)"
   ]
  },
  {
   "cell_type": "markdown",
   "metadata": {},
   "source": [
    "Exemplo:"
   ]
  },
  {
   "cell_type": "code",
   "execution_count": 7,
   "metadata": {},
   "outputs": [
    {
     "name": "stdout",
     "output_type": "stream",
     "text": [
      "[[ 4  3]\n",
      " [ 4  1]\n",
      " [-2  1]\n",
      " [ 5  1]\n",
      " [ 2  4]]\n",
      "\n",
      "[[0 0]\n",
      " [3 0]\n",
      " [0 3]]\n",
      "\n",
      "[[5.         3.16227766 4.        ]\n",
      " [4.12310563 1.41421356 4.47213595]\n",
      " [2.23606798 5.09901951 2.82842712]\n",
      " [5.09901951 2.23606798 5.38516481]\n",
      " [4.47213595 4.12310563 2.23606798]]\n"
     ]
    }
   ],
   "source": [
    "np.random.seed(7122019)\n",
    "X = np.random.randint(-5,6,10).reshape(5,2) # Matriz 5 x 2 de pontos\n",
    "W = np.array([[0,0], [3,0], [0,3]]) # Matriz 3 x 2 de pontos\n",
    "D = dist_matrix(X,W) # Matriz 5 x 3 com as distâncias associadas a\n",
    "                     # cada ponto de X a um de W\n",
    "print(X)\n",
    "print()\n",
    "print(W)\n",
    "print()\n",
    "print(D)"
   ]
  },
  {
   "cell_type": "markdown",
   "metadata": {},
   "source": [
    "**Questão 4 (1,0 ponto)** Qual função de NumPy pode ser usada para obter para cada linha da matriz $\\mathbf{D}$, retornada pela função da questão acima, a coluna que representa a menor distância da linha correspondente em $\\mathbf{X}$ para as linhas de $\\mathbf{W}$? Use a função para retornar essa informação."
   ]
  },
  {
   "cell_type": "code",
   "execution_count": 8,
   "metadata": {},
   "outputs": [
    {
     "data": {
      "text/plain": [
       "array([1, 1, 0, 1, 2], dtype=int64)"
      ]
     },
     "execution_count": 8,
     "metadata": {},
     "output_type": "execute_result"
    }
   ],
   "source": [
    "# A função de Numpy apply_along_axis() permite que uma função seja\n",
    "# aplicada em um array, percorrendo-o em relação a um de seus eixos.\n",
    "# Já a função argmin(), também de Numpy, retorna a posição do menor\n",
    "# elemento de um array.\n",
    "\n",
    "# A questão pede a posição do valor mínimo (função) dentre as colunas (eixo 1) de\n",
    "# cada linha da matriz D (array). Portanto, esse resultado é obtido por:\n",
    "\n",
    "np.apply_along_axis(np.argmin, 1, D)"
   ]
  },
  {
   "cell_type": "markdown",
   "metadata": {},
   "source": [
    "**Questão 5 (2,0 pontos)** Faça uma função que atualiza as linhas de $\\mathbf{W}$, fazendo com que cada linha assuma o valor médio das linhas de $\\mathbf{X}$ para as quais a mesma foi a mais próxima. A função deve retornar a matriz $\\mathbf{W}$ modificada. Use a função de NumPy mencionada na Questão 4."
   ]
  },
  {
   "cell_type": "code",
   "execution_count": 9,
   "metadata": {},
   "outputs": [],
   "source": [
    "def avg_XW(X, W):\n",
    "    \n",
    "    n = np.shape(X)[0] # Número de linhas de X\n",
    "    k = np.shape(W)[0] # Número de linhas de W\n",
    "    D = dist_matrix(X, W) # Matriz com as distâncias entre as linhas de X e W\n",
    "    \n",
    "    # Array com as linhas de W mais próximas a cada linha de X\n",
    "    W_prox = np.apply_along_axis(np.argmin, 1, D)\n",
    "    \n",
    "    # Matriz W modificada\n",
    "    W_mod = np.zeros(np.shape(W))\n",
    "    \n",
    "    # Média das linhas de X mais próximas a cada elemento de W:\n",
    "    for i in range(k):\n",
    "        mins = 0\n",
    "        for j in range(n):           \n",
    "            if W_prox[j] == i:\n",
    "                W_mod[i] += X[j]\n",
    "                mins += 1\n",
    "        # Para o caso onde alguma linha de W não é a mais próxima para\n",
    "        # nenhuma linha de X, se deve previnir a divisão por zero.\n",
    "        if mins == 0:\n",
    "            mins = 1\n",
    "        W_mod[i] = (W_mod[i] / mins)\n",
    "\n",
    "    return W_mod"
   ]
  },
  {
   "cell_type": "markdown",
   "metadata": {},
   "source": [
    "Exemplo:"
   ]
  },
  {
   "cell_type": "code",
   "execution_count": 10,
   "metadata": {},
   "outputs": [
    {
     "name": "stdout",
     "output_type": "stream",
     "text": [
      "[[ 4  3]\n",
      " [ 4  1]\n",
      " [-2  1]\n",
      " [ 5  1]\n",
      " [ 2  4]]\n",
      "\n",
      "[[0 0]\n",
      " [3 0]\n",
      " [0 3]]\n",
      "\n",
      "[[5.         3.16227766 4.        ]\n",
      " [4.12310563 1.41421356 4.47213595]\n",
      " [2.23606798 5.09901951 2.82842712]\n",
      " [5.09901951 2.23606798 5.38516481]\n",
      " [4.47213595 4.12310563 2.23606798]]\n",
      "\n",
      "\n",
      "[[-2.          1.        ]\n",
      " [ 4.33333333  1.66666667]\n",
      " [ 2.          4.        ]]\n"
     ]
    }
   ],
   "source": [
    "# Usando as mesmas matrizes da questão anterior:\n",
    "np.random.seed(7122019)\n",
    "X = np.random.randint(-5,6,10).reshape(5,2)\n",
    "W = np.array([[0,0], [3,0], [0,3]])\n",
    "D = dist_matrix(X,W)\n",
    "print(X)\n",
    "print()\n",
    "print(W)\n",
    "print()\n",
    "print(D)\n",
    "print()\n",
    "W_mod = avg_XW(X,W)\n",
    "print()\n",
    "print(W_mod)"
   ]
  },
  {
   "cell_type": "markdown",
   "metadata": {},
   "source": [
    "**Questão 6 (1,5 pontos)** Implemente uma classe, chamada *KMeans*, cujo construtor define os seguintes atributos: $k$ e $t_{max}$. A classe deve conter um método *fit*, que recebe como parâmetro uma matriz $\\mathbf{X}$. O método *fit* irá então seguir os seguintes passos:\n",
    "\n",
    "1. Use a função implementada na Questão 2 para obter a matriz $\\mathbf{W}$ (note que o segundo parâmetro da função receberá como argumento um dos atributos definidos no construtor);\n",
    "2. Repita as operações abaixo $t_{max}$ vezes (note que isso é um atributo):    \n",
    "    A. Use a função da Questão 3 para calcular as distâncias entre $\\mathbf{X}$ e $\\mathbf{W}$    \n",
    "    B. Use a função da Questão 5 para atualizar as linhas de $\\mathbf{W}$\n",
    "\n",
    "Ao final do método fit, a matriz $\\mathbf{W}$ resultante deve ser guardada como um atributo."
   ]
  },
  {
   "cell_type": "code",
   "execution_count": 11,
   "metadata": {},
   "outputs": [],
   "source": [
    "class KMeans:\n",
    "    def __init__(self, k, tmax):\n",
    "        self.k = k\n",
    "        self.tmax = tmax\n",
    "    def fit(self, X):\n",
    "        W = rsample(X,self.k)\n",
    "        for i in range(self.tmax):           \n",
    "            W = avg_XW(X,W)\n",
    "        self.W = W"
   ]
  },
  {
   "cell_type": "markdown",
   "metadata": {},
   "source": [
    "Exemplo:"
   ]
  },
  {
   "cell_type": "code",
   "execution_count": 12,
   "metadata": {},
   "outputs": [
    {
     "name": "stdout",
     "output_type": "stream",
     "text": [
      "[[5.98905728 0.85417875 0.71521686]\n",
      " [2.70610853 5.5891685  0.94554379]\n",
      " [2.4095396  6.33326107 4.33563529]\n",
      " [2.16038629 1.07980959 8.18982537]\n",
      " [4.12732617 9.50209211 1.79611561]\n",
      " [9.12236753 0.93009858 3.38350959]\n",
      " [3.28493483 0.45451419 5.70774676]\n",
      " [9.07584218 9.67105005 5.54693358]\n",
      " [9.94364387 3.37678032 6.67667902]\n",
      " [8.70399316 3.27684632 2.6071873 ]]\n",
      "\n",
      "[[7.71560407 7.51664083 4.67324274]\n",
      " [2.72266056 0.76716189 6.94878606]\n",
      " [5.78621322 3.39671064 2.39741857]]\n"
     ]
    }
   ],
   "source": [
    "np.random.seed(7122019)\n",
    "KM = KMeans(3, 10)\n",
    "\n",
    "X = 10*np.random.random(30).reshape((10,3))\n",
    "print(X)\n",
    "print()\n",
    "\n",
    "KM.fit(X)\n",
    "print(KM.W)"
   ]
  },
  {
   "cell_type": "markdown",
   "metadata": {},
   "source": [
    "**Questão 7 (1,0 ponto)** Adicione o método *predict* à classe *KMeans*. O método irá receber uma nova matriz $\\mathbf{X}$ e irá usar a função de NumPy mencionada na Questão 4 para retornar os índices das linhas de $\\mathbf{W}$ mais próximas às linhas de $\\mathbf{X}$."
   ]
  },
  {
   "cell_type": "code",
   "execution_count": 13,
   "metadata": {},
   "outputs": [],
   "source": [
    "class KMeans2(KMeans):\n",
    "    def predict(self, X):\n",
    "        D = dist_matrix(X, self.W)\n",
    "        mais_proximos = np.apply_along_axis(np.argmin, 1, D)\n",
    "        return mais_proximos"
   ]
  },
  {
   "cell_type": "markdown",
   "metadata": {},
   "source": [
    "Exemplo:"
   ]
  },
  {
   "cell_type": "code",
   "execution_count": 14,
   "metadata": {},
   "outputs": [
    {
     "name": "stdout",
     "output_type": "stream",
     "text": [
      "[[5.98905728 0.85417875 0.71521686]\n",
      " [2.70610853 5.5891685  0.94554379]\n",
      " [2.4095396  6.33326107 4.33563529]\n",
      " [2.16038629 1.07980959 8.18982537]\n",
      " [4.12732617 9.50209211 1.79611561]\n",
      " [9.12236753 0.93009858 3.38350959]\n",
      " [3.28493483 0.45451419 5.70774676]\n",
      " [9.07584218 9.67105005 5.54693358]\n",
      " [9.94364387 3.37678032 6.67667902]\n",
      " [8.70399316 3.27684632 2.6071873 ]]\n",
      "\n",
      "[[7.71560407 7.51664083 4.67324274]\n",
      " [2.72266056 0.76716189 6.94878606]\n",
      " [5.78621322 3.39671064 2.39741857]]\n",
      "\n",
      "[[1.75700393 1.59491685 9.6645511 ]\n",
      " [9.255594   7.87658576 9.70541694]\n",
      " [6.59413172 7.12764595 0.43241671]\n",
      " [1.35201539 8.4707409  6.34732478]\n",
      " [4.5306859  3.47221748 5.1326979 ]\n",
      " [5.90729181 3.4516044  9.48961166]\n",
      " [7.31914307 2.9305075  4.32998883]\n",
      " [5.20007376 4.43314179 1.7743091 ]\n",
      " [1.57399981 0.45514553 4.40701687]\n",
      " [7.23453043 8.83256176 9.52587947]]\n",
      "\n",
      "[1 0 2 0 2 1 2 2 1 0]\n"
     ]
    }
   ],
   "source": [
    "# Treinando o modelo com os dados da Questão 6\n",
    "np.random.seed(7122019)\n",
    "KM = KMeans2(3, 10)\n",
    "\n",
    "X_train = 10*np.random.random(30).reshape((10,3))\n",
    "print(X_train)\n",
    "print()\n",
    "KM.fit(X_train)\n",
    "print(KM.W)\n",
    "print()\n",
    "\n",
    "# E testando com uma nova matriz X:\n",
    "np.random.seed(6122019)\n",
    "X_test = 10*np.random.random(30).reshape((10,3))\n",
    "print(X_test)\n",
    "print()\n",
    "print(KM.predict(X_test))"
   ]
  },
  {
   "cell_type": "markdown",
   "metadata": {},
   "source": [
    "**Questão 8 (1,5 ponto)** Adicione o método *score* à classe *KMeans*. O método irá receber uma nova matriz $\\mathbf{X}$ e irá usar a função da Questão 3 para calcular as distâncias para a matriz $\\mathbf{W}$. Após isso, o método retornará o somatório das menores distâncias."
   ]
  },
  {
   "cell_type": "code",
   "execution_count": 15,
   "metadata": {},
   "outputs": [],
   "source": [
    "class KMeans3(KMeans2):\n",
    "    def score(self, X):\n",
    "        D = dist_matrix(X, self.W)\n",
    "        mais_proximos = np.apply_along_axis(np.argmin, 1, D)\n",
    "        soma_menores = 0\n",
    "        i = 0\n",
    "        for j in mais_proximos:\n",
    "            soma_menores += D[i, j]\n",
    "            i += 1\n",
    "        return soma_menores"
   ]
  },
  {
   "cell_type": "markdown",
   "metadata": {},
   "source": [
    "Exemplo:"
   ]
  },
  {
   "cell_type": "code",
   "execution_count": 16,
   "metadata": {},
   "outputs": [
    {
     "name": "stdout",
     "output_type": "stream",
     "text": [
      "[[5.98905728 0.85417875 0.71521686]\n",
      " [2.70610853 5.5891685  0.94554379]\n",
      " [2.4095396  6.33326107 4.33563529]\n",
      " [2.16038629 1.07980959 8.18982537]\n",
      " [4.12732617 9.50209211 1.79611561]\n",
      " [9.12236753 0.93009858 3.38350959]\n",
      " [3.28493483 0.45451419 5.70774676]\n",
      " [9.07584218 9.67105005 5.54693358]\n",
      " [9.94364387 3.37678032 6.67667902]\n",
      " [8.70399316 3.27684632 2.6071873 ]]\n",
      "\n",
      "[[7.71560407 7.51664083 4.67324274]\n",
      " [2.72266056 0.76716189 6.94878606]\n",
      " [5.78621322 3.39671064 2.39741857]]\n",
      "\n",
      "[[1.75700393 1.59491685 9.6645511 ]\n",
      " [9.255594   7.87658576 9.70541694]\n",
      " [6.59413172 7.12764595 0.43241671]\n",
      " [1.35201539 8.4707409  6.34732478]\n",
      " [4.5306859  3.47221748 5.1326979 ]\n",
      " [5.90729181 3.4516044  9.48961166]\n",
      " [7.31914307 2.9305075  4.32998883]\n",
      " [5.20007376 4.43314179 1.7743091 ]\n",
      " [1.57399981 0.45514553 4.40701687]\n",
      " [7.23453043 8.83256176 9.52587947]]\n",
      "\n",
      "[1 0 2 0 2 1 2 2 1 0]\n",
      "38.817392280125695\n"
     ]
    }
   ],
   "source": [
    "# Treinando o modelo com os dados da Questão 6\n",
    "np.random.seed(7122019)\n",
    "KM = KMeans3(3, 10)\n",
    "\n",
    "X_train = 10*np.random.random(30).reshape((10,3))\n",
    "print(X_train)\n",
    "print()\n",
    "KM.fit(X_train)\n",
    "print(KM.W)\n",
    "print()\n",
    "\n",
    "# E testando com a matriz X_test da Questão 7:\n",
    "np.random.seed(6122019)\n",
    "X_test = 10*np.random.random(30).reshape((10,3))\n",
    "print(X_test)\n",
    "print()\n",
    "print(KM.predict(X_test))\n",
    "print(KM.score(X_test))"
   ]
  },
  {
   "cell_type": "code",
   "execution_count": null,
   "metadata": {},
   "outputs": [],
   "source": []
  }
 ],
 "metadata": {
  "kernelspec": {
   "display_name": "Python 3",
   "language": "python",
   "name": "python3"
  },
  "language_info": {
   "codemirror_mode": {
    "name": "ipython",
    "version": 3
   },
   "file_extension": ".py",
   "mimetype": "text/x-python",
   "name": "python",
   "nbconvert_exporter": "python",
   "pygments_lexer": "ipython3",
   "version": "3.7.0"
  }
 },
 "nbformat": 4,
 "nbformat_minor": 2
}
