{
 "cells": [
  {
   "cell_type": "markdown",
   "metadata": {},
   "source": [
    "# Aula 11 (21/11/2019)\n",
    "\n",
    "## Arrays com Numpy (continuação)"
   ]
  },
  {
   "cell_type": "code",
   "execution_count": 2,
   "metadata": {},
   "outputs": [],
   "source": [
    "import numpy as np"
   ]
  },
  {
   "cell_type": "markdown",
   "metadata": {},
   "source": [
    "Algumas operações, como as de atribuição aritmética \"+=\" e \"\\*=\", modificam o *array* diretamente, ao invés de criar outro com o resultado."
   ]
  },
  {
   "cell_type": "code",
   "execution_count": 3,
   "metadata": {},
   "outputs": [
    {
     "name": "stdout",
     "output_type": "stream",
     "text": [
      "[[2 2]\n",
      " [1 2]]\n"
     ]
    }
   ],
   "source": [
    "A = np.array(\n",
    "    [\n",
    "        [1, 1],\n",
    "        [0, 1]\n",
    "    ]\n",
    ")\n",
    "\n",
    "A += 1\n",
    "\n",
    "print(A)"
   ]
  },
  {
   "cell_type": "markdown",
   "metadata": {},
   "source": [
    "Operações com *arrays* de tipos diferentes resultam em um *array* do tipo mais geral ou representativo (upcasting). Exemplo:"
   ]
  },
  {
   "cell_type": "code",
   "execution_count": 4,
   "metadata": {},
   "outputs": [
    {
     "name": "stdout",
     "output_type": "stream",
     "text": [
      "float64\n"
     ]
    }
   ],
   "source": [
    "# Matriz de inteiros:\n",
    "a = np.ones(3, dtype = int)\n",
    "\n",
    "# Matriz de números reais:\n",
    "b = np.ones(3, dtype = float)\n",
    "\n",
    "# Qual é o tipo da soma delas?\n",
    "print((a + b).dtype)"
   ]
  },
  {
   "cell_type": "markdown",
   "metadata": {},
   "source": [
    "Muitas operações são computadas como métodos da classe *array*, por exemplo a soma de todos os elementos, a média ou o desvio-padrão:"
   ]
  },
  {
   "cell_type": "code",
   "execution_count": 5,
   "metadata": {},
   "outputs": [
    {
     "name": "stdout",
     "output_type": "stream",
     "text": [
      "[[0.38761039 0.6797707  0.85575878]\n",
      " [0.59597788 0.06777927 0.69090331]\n",
      " [0.23905936 0.15007502 0.21904378]\n",
      " [0.63642479 0.87636146 0.87951957]\n",
      " [0.0827863  0.92791051 0.92691885]]\n",
      "Soma: 8.215899963071335, Média: 0.5477266642047557, Desvio-padrão: 0.3144327561824539\n"
     ]
    }
   ],
   "source": [
    "a = np.random.random((5, 3))\n",
    "print(a)\n",
    "print(\n",
    "    'Soma: {}, Média: {}, Desvio-padrão: {}'.format(\n",
    "        a.sum(), a.mean(), a.std()\n",
    "    )\n",
    ")"
   ]
  },
  {
   "cell_type": "markdown",
   "metadata": {},
   "source": [
    "Por padrão, essas operações são computadas sobre todos os elementos do *array*, independente das suas dimensões. No entanto, é possível especificar a dimensão desejada, usando o parâmetro *axis* (eixo), como mostra o código abaixo:"
   ]
  },
  {
   "cell_type": "code",
   "execution_count": 6,
   "metadata": {},
   "outputs": [
    {
     "name": "stdout",
     "output_type": "stream",
     "text": [
      "[1.94185872 2.70189696 3.57214429]\n",
      "[0.64104662 0.45155349 0.20272605 0.79743527 0.64587189]\n",
      "[[0.38761039 0.6797707  0.85575878]\n",
      " [0.98358827 0.74754997 1.54666209]\n",
      " [1.22264762 0.89762499 1.76570587]\n",
      " [1.85907241 1.77398645 2.64522544]\n",
      " [1.94185872 2.70189696 3.57214429]]\n"
     ]
    }
   ],
   "source": [
    "print(a.sum(axis = 0)) # soma de cada coluna\n",
    "print(a.mean(axis = 1))  # média de cada linha  \n",
    "print(a.cumsum(axis = 0))  # soma acumulada de cada coluna"
   ]
  },
  {
   "cell_type": "markdown",
   "metadata": {},
   "source": [
    "**Broadcasting**\n",
    "\n",
    "Mesmo se tenta trabalhar com *arrays* de dimensões incompatíveis, o Python pode realizar operação, \"propagando\" a dimensão da maior para a menor"
   ]
  },
  {
   "cell_type": "code",
   "execution_count": 8,
   "metadata": {},
   "outputs": [
    {
     "data": {
      "text/plain": [
       "array([[2, 1],\n",
       "       [9, 3]])"
      ]
     },
     "execution_count": 8,
     "metadata": {},
     "output_type": "execute_result"
    }
   ],
   "source": [
    "# Matriz 2x2:\n",
    "A = np.array([\n",
    "    [2,1],\n",
    "    [3,1]\n",
    "])\n",
    "\n",
    "# Matriz 2x1\n",
    "B = np.array([\n",
    "    [1],\n",
    "    [3]\n",
    "])\n",
    "\n",
    "# Encontramos erro ao multiplicá-las termo a termo?\n",
    "A * B"
   ]
  },
  {
   "cell_type": "markdown",
   "metadata": {},
   "source": [
    "**Não**, pois Pyhton \"propaga\" a dimensionalidade 2x2 de A para B. Para a execução, é o mesmo que fazer:"
   ]
  },
  {
   "cell_type": "code",
   "execution_count": 9,
   "metadata": {},
   "outputs": [
    {
     "data": {
      "text/plain": [
       "array([[2, 1],\n",
       "       [9, 3]])"
      ]
     },
     "execution_count": 9,
     "metadata": {},
     "output_type": "execute_result"
    }
   ],
   "source": [
    "A = np.array([\n",
    "    [2,1],\n",
    "    [3,1]\n",
    "])\n",
    "\n",
    "B = np.array([\n",
    "    [1, 1],\n",
    "    [3, 3]\n",
    "])\n",
    "\n",
    "A * B"
   ]
  },
  {
   "cell_type": "markdown",
   "metadata": {},
   "source": [
    "**Indexando e iterando sobre elementos**\n",
    "\n",
    "*Arrays* unidimensionais podem ser indexados, fatiados e iterados exatamente como listas e outras coleções."
   ]
  },
  {
   "cell_type": "code",
   "execution_count": 10,
   "metadata": {},
   "outputs": [
    {
     "name": "stdout",
     "output_type": "stream",
     "text": [
      "[ 0  1  4  9 16 25 36 49]\n",
      "\n",
      "4\n",
      "\n",
      "[ 4  9 16]\n",
      "\n",
      "[-1000     1 -1000     9    16    25    36    49]\n",
      "\n",
      "[   49    36    25    16     9 -1000     1 -1000]\n",
      "\n",
      "-2000\n",
      "2\n",
      "-2000\n",
      "18\n",
      "32\n",
      "50\n",
      "72\n",
      "98\n"
     ]
    }
   ],
   "source": [
    "# Array com os números\n",
    "a = np.arange(8) ** 2\n",
    "print(a)\n",
    "print()\n",
    "\n",
    "# Acessando o terceiro elemento de a\n",
    "print(a[2])\n",
    "print()\n",
    "\n",
    "# Elementos nas posições 2 a 4 (terceiro ao quinto)\n",
    "print(a[2:5])\n",
    "print()\n",
    "\n",
    "# Para as posições 0 a 3, com passo 2, (ou seja, 0 e 2) inserir o valor -1000\n",
    "a[:4:2] = -1000\n",
    "print(a)\n",
    "print()\n",
    "\n",
    "# Exibir a na ordem inversa:\n",
    "print(a[ : :-1])\n",
    "print()\n",
    "\n",
    "# Percorrer os elementos de a:\n",
    "for i in a:\n",
    "    print(i * 2)"
   ]
  },
  {
   "cell_type": "markdown",
   "metadata": {},
   "source": [
    "*Arrays* multidimensionais podem receber um índice ou fatia por eixo, informados em uma tupla. Por exemplo:"
   ]
  },
  {
   "cell_type": "code",
   "execution_count": 11,
   "metadata": {},
   "outputs": [
    {
     "name": "stdout",
     "output_type": "stream",
     "text": [
      "[[0.70082254 0.01077524 0.27638707 0.64422442]\n",
      " [0.28145342 0.88370315 0.76200314 0.64197561]\n",
      " [0.94728702 0.98024712 0.80244112 0.47702276]\n",
      " [0.37572344 0.86336526 0.5270555  0.95968587]\n",
      " [0.33921073 0.31877366 0.71823689 0.0433498 ]]\n",
      "\n",
      "0.47702276395809706\n",
      "\n",
      "[0.01077524 0.88370315 0.98024712 0.86336526 0.31877366]\n",
      "\n",
      "[0.01077524 0.88370315 0.98024712 0.86336526]\n",
      "\n",
      "[[0.28145342 0.88370315 0.76200314 0.64197561]\n",
      " [0.94728702 0.98024712 0.80244112 0.47702276]]\n"
     ]
    }
   ],
   "source": [
    "b = np.random.random((5, 4))\n",
    "print(b)\n",
    "print()\n",
    "\n",
    "print(b[2, 3])  # Elemento na terceira linha e quarta coluna\n",
    "print()\n",
    "\n",
    "print(b[:, 1])  # A segunda coluna inteira\n",
    "print()\n",
    "\n",
    "print(b[:4, 1])  # Do primeiro ao quarto elemento da segunda coluna      \n",
    "print()\n",
    "\n",
    "print(b[1:3, :])  # Todas as colunas da segunda à terceira linha"
   ]
  },
  {
   "cell_type": "markdown",
   "metadata": {},
   "source": [
    "Quando os índices forem fornecidos em uma tupla menor do que o número de eixos, os índices que não forem fornecidos são considerados fatias completas, i.e. \":\". Os índices faltantes também podem ser representados por reticências. Exemplo:"
   ]
  },
  {
   "cell_type": "code",
   "execution_count": 12,
   "metadata": {},
   "outputs": [
    {
     "name": "stdout",
     "output_type": "stream",
     "text": [
      "[0.33921073 0.31877366 0.71823689 0.0433498 ]\n",
      "[0.33921073 0.31877366 0.71823689 0.0433498 ]\n",
      "[0.33921073 0.31877366 0.71823689 0.0433498 ]\n"
     ]
    }
   ],
   "source": [
    "# Todos os elementos da última linha:\n",
    "\n",
    "print(b[-1])\n",
    "print(b[-1, :])\n",
    "print(b[-1, ...])"
   ]
  },
  {
   "cell_type": "markdown",
   "metadata": {},
   "source": [
    "NumPy oferece mais formas de indexar os seus *arrays*, usando listas ou *arrays* de inteiros ou booleanos. Quando o *array* b é multidimensional, a indexação usando uma única lista de índices se refere à primeira dimensão de b."
   ]
  },
  {
   "cell_type": "code",
   "execution_count": 13,
   "metadata": {},
   "outputs": [
    {
     "name": "stdout",
     "output_type": "stream",
     "text": [
      "[[0.70082254 0.01077524 0.27638707 0.64422442]\n",
      " [0.28145342 0.88370315 0.76200314 0.64197561]\n",
      " [0.94728702 0.98024712 0.80244112 0.47702276]\n",
      " [0.37572344 0.86336526 0.5270555  0.95968587]\n",
      " [0.33921073 0.31877366 0.71823689 0.0433498 ]]\n",
      "\n",
      "[[0.28145342 0.88370315 0.76200314 0.64197561]\n",
      " [0.33921073 0.31877366 0.71823689 0.0433498 ]]\n",
      "\n",
      "[[0.01077524 0.27638707]\n",
      " [0.88370315 0.76200314]\n",
      " [0.98024712 0.80244112]\n",
      " [0.86336526 0.5270555 ]\n",
      " [0.31877366 0.71823689]]\n",
      "\n",
      "[0.88370315 0.71823689]\n",
      "\n",
      "[[0.88370315 0.76200314]\n",
      " [0.31877366 0.71823689]]\n",
      "\n",
      "[[0.88370315 0.76200314]\n",
      " [0.31877366 0.71823689]]\n",
      "\n",
      "[[0.70082254 0.01077524 0.27638707 0.64422442]\n",
      " [0.28145342 0.         0.         0.64197561]\n",
      " [0.94728702 0.98024712 0.80244112 0.47702276]\n",
      " [0.37572344 0.86336526 0.5270555  0.95968587]\n",
      " [0.33921073 0.         0.         0.0433498 ]]\n"
     ]
    }
   ],
   "source": [
    "print(b)\n",
    "print()\n",
    "\n",
    "print(b[[1, 4]])  # Segunda e quinta linhas da matriz b, equivale a b[[1, 4], :]\n",
    "print()\n",
    "\n",
    "print(b[:, [1, 2]])  # Segunda e terceira colunas da matriz b\n",
    "print()\n",
    "\n",
    "print(b[[1, 4], [1, 2]])  # Indexação pareada, equivale a [b[1,1], b[4, 2]]\n",
    "print()\n",
    "\n",
    "i = [\n",
    "    [1, 1],\n",
    "    [4, 4]\n",
    "]\n",
    "j = [\n",
    "    [1, 2],\n",
    "    [1, 2]\n",
    "]\n",
    "\n",
    "print(b[i, j])  # Indexação pareada, segunda e terceira colunas da segunda e quinta linhas\n",
    "print()\n",
    "\n",
    "\n",
    "print(b[\n",
    "    [[1], [4]],  # Equivale a b[i, j], note que o array\n",
    "    [1, 2]       # de índices do primeiro eixo é bidimensional\n",
    "])\n",
    "print()\n",
    "\n",
    "b[i, j] = 0  # As posições indexadas podem receber valores\n",
    "print(b)"
   ]
  },
  {
   "cell_type": "markdown",
   "metadata": {},
   "source": [
    "Para indexar *arrays* usando *arrays* ou listas de booleanos, pode-se usar um *array* com exatamente a mesma quantidade de elementos que o *array* indexado. Isso pode ser muito útil para fazer atribuições. Exemplo:"
   ]
  },
  {
   "cell_type": "code",
   "execution_count": 14,
   "metadata": {},
   "outputs": [
    {
     "name": "stdout",
     "output_type": "stream",
     "text": [
      "[[False  True  True False]\n",
      " [ True  True  True False]\n",
      " [False False False  True]\n",
      " [ True False False False]\n",
      " [ True  True  True  True]]\n",
      "\n",
      "[0.01077524 0.27638707 0.28145342 0.         0.         0.47702276\n",
      " 0.37572344 0.33921073 0.         0.         0.0433498 ]\n",
      "\n",
      "[[0.70082254 0.         0.         0.64422442]\n",
      " [0.         0.         0.         0.64197561]\n",
      " [0.94728702 0.98024712 0.80244112 0.        ]\n",
      " [0.         0.86336526 0.5270555  0.95968587]\n",
      " [0.         0.         0.         0.        ]]\n"
     ]
    }
   ],
   "source": [
    "# 'a' recebe valores lógicos correspondentes a quais elementos de\n",
    "# 'b' são menores que 0.5 e quais não são:\n",
    "a = b < 0.5\n",
    "\n",
    "# Visualmente:\n",
    "print(a)\n",
    "print()\n",
    "\n",
    "# Filtrando 'b' usando 'a':\n",
    "print(b[a])\n",
    "print()\n",
    "\n",
    "# Atribuição a valores de 'b' usando o filtro 'a':\n",
    "b[a] = 0\n",
    "print(b)"
   ]
  },
  {
   "cell_type": "markdown",
   "metadata": {},
   "source": [
    "Também é possível indexar cada dimensão usando *arrays* unidimensionais de booleanos com o mesmo tamanho da dimensão indexada:"
   ]
  },
  {
   "cell_type": "code",
   "execution_count": 15,
   "metadata": {},
   "outputs": [
    {
     "name": "stdout",
     "output_type": "stream",
     "text": [
      "[[0.70082254 0.         0.         0.64422442]\n",
      " [0.94728702 0.98024712 0.80244112 0.        ]]\n",
      "\n",
      "[[0.70082254 0.        ]\n",
      " [0.         0.        ]\n",
      " [0.94728702 0.98024712]\n",
      " [0.         0.86336526]\n",
      " [0.         0.        ]]\n",
      "\n",
      "[0.70082254 0.98024712]\n",
      "\n"
     ]
    }
   ],
   "source": [
    "b1 = np.array([True, False, True, False, False])\n",
    "b2 = np.array([True, True, False, False])\n",
    "\n",
    "print(b[b1])  # Equivale a b[b1, :]\n",
    "print()\n",
    "\n",
    "print(b[:, b2])\n",
    "print()\n",
    "\n",
    "print(b[b1,b2])\n",
    "print()"
   ]
  },
  {
   "cell_type": "markdown",
   "metadata": {},
   "source": [
    "Iterações sobre *arrays* multidimensionais são feitas ao longo do primeiro eixo:"
   ]
  },
  {
   "cell_type": "code",
   "execution_count": 16,
   "metadata": {},
   "outputs": [
    {
     "name": "stdout",
     "output_type": "stream",
     "text": [
      "[0.70082254 0.         0.         0.64422442]\n",
      "[0.         0.         0.         0.64197561]\n",
      "[0.94728702 0.98024712 0.80244112 0.        ]\n",
      "[0.         0.86336526 0.5270555  0.95968587]\n",
      "[0. 0. 0. 0.]\n"
     ]
    }
   ],
   "source": [
    "# Exibe todos os valores de cada linha de 'b':\n",
    "for row in b:\n",
    "    print(row)"
   ]
  },
  {
   "cell_type": "markdown",
   "metadata": {},
   "source": [
    "**Redimensionando arrays**    \n",
    "Como vimos acima, o tamanho das dimensões do *array* pode ser obtido por meio do atributo *shape*:"
   ]
  },
  {
   "cell_type": "code",
   "execution_count": 17,
   "metadata": {},
   "outputs": [
    {
     "name": "stdout",
     "output_type": "stream",
     "text": [
      "[ 0  1  2  3  4  5  6  7  8  9 10 11]\n",
      "(12,)\n"
     ]
    }
   ],
   "source": [
    "a = np.arange(12)\n",
    "print(a)\n",
    "print(a.shape)"
   ]
  },
  {
   "cell_type": "markdown",
   "metadata": {},
   "source": [
    "No entanto, a forma do *array* não é fixa e pode ser modificada de diversas formas, retornando um novo *array* com os mesmos elementos do *array* original, mas reposicionados para se adequar à nova forma."
   ]
  },
  {
   "cell_type": "code",
   "execution_count": 19,
   "metadata": {},
   "outputs": [
    {
     "name": "stdout",
     "output_type": "stream",
     "text": [
      "[[ 0  1  2]\n",
      " [ 3  4  5]\n",
      " [ 6  7  8]\n",
      " [ 9 10 11]]\n",
      "\n",
      "[ 0  1  2  3  4  5  6  7  8  9 10 11]\n",
      "\n",
      "[[ 0  3  6  9]\n",
      " [ 1  4  7 10]\n",
      " [ 2  5  8 11]]\n",
      "\n"
     ]
    }
   ],
   "source": [
    "c = a.reshape(4, 3)\n",
    "print(c)\n",
    "print()\n",
    "\n",
    "print(c.ravel())  # retorna o array \"achatado\" \n",
    "print()\n",
    "\n",
    "print(c.T)  # retorna o array transposto\n",
    "print()"
   ]
  },
  {
   "cell_type": "markdown",
   "metadata": {},
   "source": [
    "A função *reshape* retorna um novo *array*. Para modificar o próprio *array*, pode-se usar a função *resize*:"
   ]
  },
  {
   "cell_type": "code",
   "execution_count": 20,
   "metadata": {},
   "outputs": [
    {
     "name": "stdout",
     "output_type": "stream",
     "text": [
      "[[ 0  1  2]\n",
      " [ 3  4  5]\n",
      " [ 6  7  8]\n",
      " [ 9 10 11]]\n"
     ]
    }
   ],
   "source": [
    "a.resize(4, 3)\n",
    "print(a)"
   ]
  },
  {
   "cell_type": "markdown",
   "metadata": {},
   "source": [
    "Se alguma dimensão receber o valor -1 para uma operação de redimensionamento, o seu novo tamanho será automaticamente calculado. Por exemplo, se quisermos que a tenha 2 linhas e o número necessário de colunas, podemos fazer:"
   ]
  },
  {
   "cell_type": "code",
   "execution_count": 21,
   "metadata": {},
   "outputs": [
    {
     "data": {
      "text/plain": [
       "array([[ 0,  1,  2,  3,  4,  5],\n",
       "       [ 6,  7,  8,  9, 10, 11]])"
      ]
     },
     "execution_count": 21,
     "metadata": {},
     "output_type": "execute_result"
    }
   ],
   "source": [
    "a.reshape(2, -1)"
   ]
  },
  {
   "cell_type": "markdown",
   "metadata": {},
   "source": [
    "Se tentarmos tranpor um *array* unidimensional usando o atributo T, ele continuará sendo unidimensional. Portanto, para realizar a transposição, podemos usar o método *reshape*, com -1 no número de linhas, gerando um vetor coluna com o número necessário de linhas:"
   ]
  },
  {
   "cell_type": "code",
   "execution_count": 22,
   "metadata": {},
   "outputs": [
    {
     "name": "stdout",
     "output_type": "stream",
     "text": [
      "[ 0  1  2  3  4  5  6  7  8  9 10 11]\n",
      "[ 0  1  2  3  4  5  6  7  8  9 10 11]\n",
      "[[ 0]\n",
      " [ 1]\n",
      " [ 2]\n",
      " [ 3]\n",
      " [ 4]\n",
      " [ 5]\n",
      " [ 6]\n",
      " [ 7]\n",
      " [ 8]\n",
      " [ 9]\n",
      " [10]\n",
      " [11]]\n"
     ]
    }
   ],
   "source": [
    "a = np.arange(12)\n",
    "print(a)\n",
    "print(a.T) # Transposição usando '.T' não altera arrays unidimensionais\n",
    "print(a.reshape(-1, 1))"
   ]
  },
  {
   "cell_type": "markdown",
   "metadata": {},
   "source": [
    "Outra forma de transpor um *array* unidimensional para obter um vetor coluna é usando o atalho de NumPy para criar novos eixos:"
   ]
  },
  {
   "cell_type": "code",
   "execution_count": 28,
   "metadata": {},
   "outputs": [
    {
     "name": "stdout",
     "output_type": "stream",
     "text": [
      "(12, 1)\n"
     ]
    },
    {
     "data": {
      "text/plain": [
       "array([[ 0],\n",
       "       [ 1],\n",
       "       [ 2],\n",
       "       [ 3],\n",
       "       [ 4],\n",
       "       [ 5],\n",
       "       [ 6],\n",
       "       [ 7],\n",
       "       [ 8],\n",
       "       [ 9],\n",
       "       [10],\n",
       "       [11]])"
      ]
     },
     "execution_count": 28,
     "metadata": {},
     "output_type": "execute_result"
    }
   ],
   "source": [
    "a_nd = a[:, np.newaxis]\n",
    "\n",
    "print(np.shape(a_nd))\n",
    "\n",
    "a_nd"
   ]
  },
  {
   "cell_type": "markdown",
   "metadata": {},
   "source": [
    "**Concatenando arrays**    \n",
    "As funções *vstack* e *hstack* permitem concatenar dois ou mais *arrays* verticalmente e horizontalmente, respectivamente:"
   ]
  },
  {
   "cell_type": "code",
   "execution_count": 29,
   "metadata": {},
   "outputs": [
    {
     "name": "stdout",
     "output_type": "stream",
     "text": [
      "[[0.         1.        ]\n",
      " [2.         3.        ]\n",
      " [4.         5.        ]\n",
      " [0.84208504 0.08245068]\n",
      " [0.09935054 0.77916869]\n",
      " [0.12365846 0.85485678]]\n",
      "\n",
      "[[0.         1.         0.84208504 0.08245068]\n",
      " [2.         3.         0.09935054 0.77916869]\n",
      " [4.         5.         0.12365846 0.85485678]]\n"
     ]
    }
   ],
   "source": [
    "a = np.arange(6).reshape(3, 2)\n",
    "b = np.random.random((3, 2))\n",
    "\n",
    "print(np.vstack((a, b)))\n",
    "print()\n",
    "\n",
    "print(np.hstack((a, b)))"
   ]
  },
  {
   "cell_type": "markdown",
   "metadata": {},
   "source": [
    "A função *column_stack* concatena dois ou mais *arrays* unidimensionais na forma de colunas em um *array* 2D resultante:"
   ]
  },
  {
   "cell_type": "code",
   "execution_count": 30,
   "metadata": {},
   "outputs": [
    {
     "name": "stdout",
     "output_type": "stream",
     "text": [
      "[[0.         0.58621736]\n",
      " [1.         0.86345182]\n",
      " [2.         0.47866208]]\n",
      "\n",
      "[0.         1.         2.         0.58621736 0.86345182 0.47866208]\n"
     ]
    }
   ],
   "source": [
    "a = np.arange(3)\n",
    "b = np.random.random(3)\n",
    "\n",
    "print(np.column_stack((a, b)))\n",
    "print()\n",
    "\n",
    "print(np.hstack((a, b)))  # resultado diferente"
   ]
  },
  {
   "cell_type": "markdown",
   "metadata": {},
   "source": [
    "Essas funções de concatenação são todas casos especiais de uso mais comum da função *concatenate*, que permite definir o eixo sobre o qual ocorrerá a concatenação."
   ]
  },
  {
   "cell_type": "code",
   "execution_count": null,
   "metadata": {},
   "outputs": [],
   "source": []
  }
 ],
 "metadata": {
  "kernelspec": {
   "display_name": "Python 3",
   "language": "python",
   "name": "python3"
  },
  "language_info": {
   "codemirror_mode": {
    "name": "ipython",
    "version": 3
   },
   "file_extension": ".py",
   "mimetype": "text/x-python",
   "name": "python",
   "nbconvert_exporter": "python",
   "pygments_lexer": "ipython3",
   "version": "3.7.0"
  }
 },
 "nbformat": 4,
 "nbformat_minor": 2
}
