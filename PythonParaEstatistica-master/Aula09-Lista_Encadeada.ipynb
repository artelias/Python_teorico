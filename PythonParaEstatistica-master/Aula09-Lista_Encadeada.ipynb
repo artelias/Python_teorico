{
 "cells": [
  {
   "cell_type": "markdown",
   "metadata": {},
   "source": [
    "# Aula 09 (14/11/2019)\n",
    "\n",
    "## Herança e Polimorfismo\n",
    "\n",
    "## Exercícios (continuação)"
   ]
  },
  {
   "cell_type": "markdown",
   "metadata": {},
   "source": [
    "**2.2. (Estrutura de dados: Lista encadeada).** Uma lista encadeada é uma coleção de elementos em que cada elemento 'eum nó que \"aponta\" para o próximo membro da lista. Dessa forma, os elementos da lista formam uma cadeia cuja posição na memória não precisa ser contígua. Essa estrutura permite a inserção e a remoção eficiente de elementos em qualquer posição da lista, sem ser necessário deslocar \"fisicamente\" todos os outros membros. Uma desvatagem das listas é que o acesso a cada elemento não pode ser feita de forma direta, como em um array. É necessário navegar pela lista para encontrar o elemento desejado. Na sua forma mais simples, cada nó da lista contém dados e uma referência para o próximo elemento. Dessa forma, o último elemento da lista sempre apontará para uma referência nula. Variedades mais complexas adicionam referências extras, como para os elementos anteriores (lista duplamente encadeada). Implemente uma lista encadeada simples em Python, usando classes para a lista e para os nós, além das seguintes operações:\n",
    "\n",
    "1. Inserir elemento no início\n",
    "2. Inserir elemento no fim\n",
    "3. Inserir elemento em uma dada posição\n",
    "4. Verificar se um elemento está na lista\n",
    "5. Remover elemento com dado valor\n",
    "6. Remover começo da lista (cabeça) e retornar o seu valor\n",
    "7. Remover último elemento e retornar o seu valor\n",
    "8. Imprimir os valores da lista"
   ]
  },
  {
   "cell_type": "code",
   "execution_count": 26,
   "metadata": {},
   "outputs": [],
   "source": [
    "# Criamos uma classe para os nós da lista. Cada nó deve guardar um valor,\n",
    "# e poderá guardar um \"próximo nó\".\n",
    "class Node:\n",
    "    def __init__(self, value):\n",
    "        self.value = value\n",
    "        self.next = None\n",
    "\n",
    "# Uma lista encadeada é uma estrutura de dados\n",
    "class LinkedList:\n",
    "    def __init__(self, value = None):\n",
    "        if value:\n",
    "            n = Node(value)\n",
    "            self.head = n\n",
    "        else:\n",
    "            self.head = None\n",
    "    \n",
    "    # 1. Inserir elemento no início\n",
    "    def insert_head(self, value):\n",
    "        new_node = Node(value)\n",
    "        new_node.next = self.head\n",
    "        self.head = new_node\n",
    "        \n",
    "    # 2. Inserir um valor no fim da lista\n",
    "    def insert_end(self, value):\n",
    "        new_node = Node(value)\n",
    "        node = self.head\n",
    "        while node.next:\n",
    "            node = node.next\n",
    "        node.next = new_node\n",
    "        \n",
    "    # 3. Inserir elemento em uma dada posição\n",
    "    def insert(self, value, position):\n",
    "        new_node = Node(value)\n",
    "        i = 0\n",
    "        previous = None\n",
    "        current = self.head\n",
    "        while current and i < position:\n",
    "            previous = current\n",
    "            current = current.next\n",
    "            i += 1\n",
    "        if previous:\n",
    "            previous.next = new_node\n",
    "        new_node.next = current\n",
    "        if i == 0:\n",
    "            self.new_node\n",
    "    \n",
    "    # 4. Verificar se um elemento está na lista\n",
    "    def find(self, value):\n",
    "        found = False\n",
    "        node = self.head\n",
    "        while node.next and not found:\n",
    "            if node.value == value:\n",
    "                found = True\n",
    "            node = node.next\n",
    "        return found\n",
    "    \n",
    "    # 5. Remover elemento com dado valor\n",
    "    def remove_value(value, self):\n",
    "        if self.head:\n",
    "            previous = None\n",
    "            current = self.head\n",
    "            while current and current.value != value:\n",
    "                previous = current\n",
    "                current = current.next\n",
    "            if current:\n",
    "                node = current\n",
    "                if previous:\n",
    "                    previous.next = current.next\n",
    "                else:\n",
    "                    self.head = current.next\n",
    "                return node.value\n",
    "    \n",
    "    # 6. Remover começo da lista (cabeça) e retornar o seu valor\n",
    "    def remove_head(self):\n",
    "        if self.head:\n",
    "            node = self.head\n",
    "            self.head = node.next\n",
    "            return node.value\n",
    "        \n",
    "        # OBS: por padrão, se uma função Python não chega em uma instrução \"return\",\n",
    "        # ela retorna \"None\"\n",
    "        \n",
    "    \n",
    "    # 7. Remover último elemento e retornar o seu valor\n",
    "    def remove_end(self):\n",
    "        # Verifica se a lista tem um elemento inicial\n",
    "        if self.head:\n",
    "            # Verifica se o elemento inicial tem próximo\n",
    "            if self.head.next:\n",
    "                node = self.head\n",
    "                # Percorre a lista olhando para o \"próximo do próximo\". O último\n",
    "                # elemento não tem próximo, logo percorremos a lista até o\n",
    "                # penúltimo elemento.\n",
    "                while node.next.next:\n",
    "                    node = node.next\n",
    "                    # Guardamos o antigo último...\n",
    "                end = node.next\n",
    "                # ...e o retiramos da lista\n",
    "                node.next = None\n",
    "                return end.value\n",
    "            # Caso o primeiro elemento seja o único\n",
    "            else:\n",
    "                end = self.head\n",
    "                self.head = None\n",
    "                return end.value\n",
    "            \n",
    "    # 8. Imprimir os valores da lista:\n",
    "    \n",
    "    # OBS: funções '__str__' são aquelas que podem ser usadas como argumento de\n",
    "    # print(), isto é, devem retornar strings de caracteres\n",
    "    def __str__(self):\n",
    "        s = ''\n",
    "        node = self.head\n",
    "        while node:\n",
    "            s += '{}->'.format(node.value)\n",
    "            node = node.next\n",
    "        if s:\n",
    "            return s\n",
    "        else:\n",
    "            return 'Lista vazia'"
   ]
  },
  {
   "cell_type": "code",
   "execution_count": 29,
   "metadata": {},
   "outputs": [],
   "source": [
    "lista = LinkedList(8)\n",
    "\n",
    "lista.insert_head(7)\n",
    "lista.insert_end(9)"
   ]
  },
  {
   "cell_type": "code",
   "execution_count": 30,
   "metadata": {},
   "outputs": [
    {
     "name": "stdout",
     "output_type": "stream",
     "text": [
      "7->8->9->\n"
     ]
    }
   ],
   "source": [
    "print(lista)"
   ]
  },
  {
   "cell_type": "markdown",
   "metadata": {},
   "source": [
    "## Fila e Pilhas\n",
    "\n",
    "Filas e Pilhas são estruturas de dados baseadas em listas encadeadas. Elas diferem na ordem de remoção de seus elementos: filas seguem o padrão\n",
    "\n",
    "**Exercício:** Implemente classes para fila e pilha usando os métodos da lista encadeada."
   ]
  },
  {
   "cell_type": "code",
   "execution_count": 45,
   "metadata": {},
   "outputs": [],
   "source": [
    "class Queue(LinkedList):\n",
    "    def enqueue(self, value):\n",
    "        if self.head:\n",
    "            super().insert_end(value)\n",
    "        else:\n",
    "            super().insert_head(value)\n",
    "    def dequeue(self):\n",
    "        super().remove_head()\n",
    "\n",
    "\n",
    "class Stack(LinkedList):\n",
    "    def push(self, value):\n",
    "        if self.head:\n",
    "            super().insert_end(value)\n",
    "        else:\n",
    "            super().insert_head(value)\n",
    "    def pop(self):\n",
    "        super().remove_end()"
   ]
  },
  {
   "cell_type": "code",
   "execution_count": 46,
   "metadata": {},
   "outputs": [
    {
     "name": "stdout",
     "output_type": "stream",
     "text": [
      "1->2->3->4->\n",
      "3->4->\n"
     ]
    }
   ],
   "source": [
    "fila = Queue()\n",
    "\n",
    "fila.enqueue(1)\n",
    "fila.enqueue(2)\n",
    "fila.enqueue(3)\n",
    "fila.enqueue(4)\n",
    "print(fila)\n",
    "fila.dequeue()\n",
    "fila.dequeue()\n",
    "print(fila)"
   ]
  },
  {
   "cell_type": "code",
   "execution_count": 44,
   "metadata": {},
   "outputs": [
    {
     "name": "stdout",
     "output_type": "stream",
     "text": [
      "1->2->3->4->\n",
      "1->2->\n"
     ]
    }
   ],
   "source": [
    "pilha = Stack()\n",
    "\n",
    "pilha.push(1)\n",
    "pilha.push(2)\n",
    "pilha.push(3)\n",
    "pilha.push(4)\n",
    "print(pilha)\n",
    "pilha.pop()\n",
    "pilha.pop()\n",
    "print(pilha)"
   ]
  },
  {
   "cell_type": "code",
   "execution_count": null,
   "metadata": {},
   "outputs": [],
   "source": []
  }
 ],
 "metadata": {
  "kernelspec": {
   "display_name": "Python 3",
   "language": "python",
   "name": "python3"
  },
  "language_info": {
   "codemirror_mode": {
    "name": "ipython",
    "version": 3
   },
   "file_extension": ".py",
   "mimetype": "text/x-python",
   "name": "python",
   "nbconvert_exporter": "python",
   "pygments_lexer": "ipython3",
   "version": "3.7.0"
  }
 },
 "nbformat": 4,
 "nbformat_minor": 2
}
