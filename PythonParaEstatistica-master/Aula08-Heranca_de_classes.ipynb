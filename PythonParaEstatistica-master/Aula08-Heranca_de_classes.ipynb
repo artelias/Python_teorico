{
 "cells": [
  {
   "cell_type": "markdown",
   "metadata": {},
   "source": [
    "# Aula 08 (12/11/2019)\n",
    "## Heranças de Classes"
   ]
  },
  {
   "cell_type": "code",
   "execution_count": null,
   "metadata": {},
   "outputs": [],
   "source": []
  },
  {
   "cell_type": "code",
   "execution_count": 1,
   "metadata": {},
   "outputs": [],
   "source": [
    "import math\n",
    "\n",
    "class DiscreteDistribution:\n",
    "    \n",
    "    def __init__(self, params):\n",
    "        self.params = params\n",
    "        \n",
    "    def pmf(self, x):\n",
    "        pass\n",
    "    \n",
    "    def cdf(self, x):\n",
    "        total = 0\n",
    "        for v in range(x + 1):\n",
    "            total += self.pmf(v)\n",
    "        return total\n",
    "    \n",
    "    def mean(self):\n",
    "        pass\n",
    "    \n",
    "    def variance(self):\n",
    "        pass"
   ]
  },
  {
   "cell_type": "code",
   "execution_count": 5,
   "metadata": {},
   "outputs": [],
   "source": [
    "class BinomialDistribution(DiscreteDistribution):\n",
    "    \n",
    "    def pmf(self, x):\n",
    "        \n",
    "        n = self.params['n']\n",
    "        p = self.params['p']\n",
    "        \n",
    "        def factorial(n):\n",
    "            prod = 1\n",
    "            for i in range(1, n + 1):\n",
    "                prod *= i\n",
    "            return prod\n",
    "\n",
    "        def combination(n, x):\n",
    "            return factorial(n) / (factorial(x) * factorial(n - x))\n",
    "\n",
    "        return combination(n, x) * p ** x * (1.0 - p) ** (n - x) \n",
    "    \n",
    "    def mean(self):\n",
    "        return self.params['n'] * self.params['p']\n",
    "    \n",
    "    def variance(self):\n",
    "        return self.params['n'] * self.params['p'] * (1 - self.params['p'])"
   ]
  },
  {
   "cell_type": "code",
   "execution_count": 14,
   "metadata": {},
   "outputs": [],
   "source": [
    "n = 5\n",
    "p = 0.7\n",
    "\n",
    "bd = BinomialDistribution(params={'n' : n,'p': p})"
   ]
  },
  {
   "cell_type": "code",
   "execution_count": 15,
   "metadata": {},
   "outputs": [
    {
     "name": "stdout",
     "output_type": "stream",
     "text": [
      "Valor Esperado: 3.5\n",
      "Variância: 1.0500\n",
      "Função Massa de Probabilidade em x = 4: 0.36\n",
      "Função de Probabilidade Acumulada em x = 4: 0.83\n"
     ]
    },
    {
     "data": {
      "text/plain": [
       "(0.02178685185185183, 1.0871474074074072)"
      ]
     },
     "execution_count": 15,
     "metadata": {},
     "output_type": "execute_result"
    }
   ],
   "source": [
    "# Testando a distrbuição:\n",
    "\n",
    "x = 4\n",
    "\n",
    "print('Valor Esperado: {}'.format(bd.mean()))\n",
    "print('Variância: {:.4f}'.format(bd.variance()))\n",
    "print('Função Massa de Probabilidade em x = {:d}: {:.2f}'.format(x, bd.pmf(x)))\n",
    "print('Função de Probabilidade Acumulada em x = {:d}: {:.2f}'.format(x, bd.cdf(x)))\n",
    "\n",
    "bd.pmf(7), bd.cdf(7)"
   ]
  },
  {
   "cell_type": "markdown",
   "metadata": {},
   "source": [
    "## Exercícios \n",
    "2.1. Implemente a classe UniformDistribution como uma subclasse da classe DiscreteDistribution da Seção anterior."
   ]
  },
  {
   "cell_type": "code",
   "execution_count": 33,
   "metadata": {},
   "outputs": [],
   "source": [
    "import math\n",
    "\n",
    "class DiscreteDistribution:\n",
    "    \n",
    "    def __init__(self, params):\n",
    "        self.params = params\n",
    "        \n",
    "    def pmf(self, x):\n",
    "        pass\n",
    "    \n",
    "    def cdf(self, x):\n",
    "        total = 0\n",
    "        for v in range(x + 1):\n",
    "            total += self.pmf(v)\n",
    "        return total\n",
    "    \n",
    "    def mean(self):\n",
    "        pass\n",
    "    \n",
    "    def variance(self):\n",
    "        pass\n",
    "    \n",
    "    \n",
    "class UniformDistribution(DiscreteDistribution):\n",
    "    def pmf(self, x):\n",
    "        \n",
    "        a, b = self.params['a'], self.params['b']\n",
    "        if x < a or x > b:\n",
    "            return 0\n",
    "        else:\n",
    "            return 1 / (len(range(a,b + 1)))\n",
    "    \n",
    "    def mean(self):\n",
    "        return (self.params['a'] + self.params['b'])/2\n",
    "    \n",
    "    def variance(self):\n",
    "        a, b = self.params['a'], self.params['b']\n",
    "        return ((b - a + 1)**2 - 1)/12"
   ]
  },
  {
   "cell_type": "code",
   "execution_count": 34,
   "metadata": {},
   "outputs": [],
   "source": [
    "a = 1\n",
    "b = 10\n",
    "\n",
    "# Os valores dos parâmetros devem ser informados da seguinte maneira:\n",
    "\n",
    "uni = UniformDistribution(params={'a' : a,'b': b})"
   ]
  },
  {
   "cell_type": "code",
   "execution_count": 35,
   "metadata": {},
   "outputs": [
    {
     "name": "stdout",
     "output_type": "stream",
     "text": [
      "Valor Esperado: 5.5\n",
      "Variância: 8.2500\n",
      "Função Massa de Probabilidade em x = 4: 0.10\n",
      "Função de Probabilidade Acumulada em x = 4: 0.40\n"
     ]
    }
   ],
   "source": [
    "# Testando a distrbuição:\n",
    "\n",
    "x = 4\n",
    "\n",
    "print('Valor Esperado: {}'.format(uni.mean()))\n",
    "print('Variância: {:.4f}'.format(uni.variance()))\n",
    "print('Função Massa de Probabilidade em x = {:d}: {:.2f}'.format(x, uni.pmf(x)))\n",
    "print('Função de Probabilidade Acumulada em x = {:d}: {:.2f}'.format(x, uni.cdf(x)))"
   ]
  },
  {
   "cell_type": "code",
   "execution_count": 19,
   "metadata": {},
   "outputs": [
    {
     "data": {
      "text/plain": [
       "0"
      ]
     },
     "execution_count": 19,
     "metadata": {},
     "output_type": "execute_result"
    }
   ],
   "source": [
    "uni.pmf(20)"
   ]
  },
  {
   "cell_type": "code",
   "execution_count": null,
   "metadata": {},
   "outputs": [],
   "source": []
  }
 ],
 "metadata": {
  "kernelspec": {
   "display_name": "Python 3",
   "language": "python",
   "name": "python3"
  },
  "language_info": {
   "codemirror_mode": {
    "name": "ipython",
    "version": 3
   },
   "file_extension": ".py",
   "mimetype": "text/x-python",
   "name": "python",
   "nbconvert_exporter": "python",
   "pygments_lexer": "ipython3",
   "version": "3.7.0"
  }
 },
 "nbformat": 4,
 "nbformat_minor": 2
}
