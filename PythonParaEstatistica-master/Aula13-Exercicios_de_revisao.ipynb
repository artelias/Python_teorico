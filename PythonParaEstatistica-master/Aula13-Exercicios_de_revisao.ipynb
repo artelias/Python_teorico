{
 "cells": [
  {
   "cell_type": "markdown",
   "metadata": {},
   "source": [
    "# Aula 13 (03/12/2019)"
   ]
  },
  {
   "cell_type": "code",
   "execution_count": 3,
   "metadata": {},
   "outputs": [],
   "source": [
    "import numpy as np"
   ]
  },
  {
   "cell_type": "markdown",
   "metadata": {},
   "source": [
    "## Exercícios de revisão"
   ]
  },
  {
   "cell_type": "markdown",
   "metadata": {},
   "source": [
    "**3.2.** Faça uma função que gera uma matriz aleatória $X$ (escolha a distribuição) com $n$ linhas e $p$ colunas e um vetor $\\vec{y}$, cujos valores são função das linhas de $X$ com adição de ruído normal, de média $0$ e variância $1$, e.g. $y_{i} = 3x_{i1} + 5x_{i2} + 10 + e_{i}$ , onde  $e_{i}∼N(0,1)$. Os parâmetros da função geradora devem incluir $n$, $p$ e a função geradora de $y$ (dica: use o operador **lambda**)."
   ]
  },
  {
   "cell_type": "code",
   "execution_count": 1,
   "metadata": {},
   "outputs": [],
   "source": [
    "def generate_data(f, n = 2, p = 2):\n",
    "    X = np.random.random((n, p))\n",
    "    \n",
    "    y = f(X) + np.random.normal(0, 1, n)\n",
    "    \n",
    "    return X, y"
   ]
  },
  {
   "cell_type": "code",
   "execution_count": 4,
   "metadata": {},
   "outputs": [
    {
     "data": {
      "text/plain": [
       "(array([[0.38140576, 0.79472444],\n",
       "        [0.83723106, 0.29058078]]), array([3.53992273, 2.60414624]))"
      ]
     },
     "execution_count": 4,
     "metadata": {},
     "output_type": "execute_result"
    }
   ],
   "source": [
    "np.random.seed(3122019)\n",
    "\n",
    "f = lambda x: 2*x[:,0]**2 + 3*x[:,1] + 1\n",
    "\n",
    "X, y = generate_data(f,2,2)\n",
    "\n",
    "X,y"
   ]
  },
  {
   "cell_type": "markdown",
   "metadata": {},
   "source": [
    "**3.3.** Implemente uma classe *LinearRegression*, com os métodos:\n",
    "\n",
    "- *fit* que recebe uma matriz $X$ e um vetor $\\vec{y}$ e ajusta uma regressão linear pelo método dos mínimos quadrados, guardando os coeficientes e o intercept como atributos;\n",
    "- *predict* que recebe uma matriz  $X$  e estima os valores $\\hat{y}$ correspondentes;\n",
    "- *score* que recebe uma matriz  $X$  e um vetor $\\vec{y}$ e calcula o erro quadrático médio de estimação.\n",
    "\n",
    "Use a função geradora da questão anterior para gerar  $X_{1}$  e $\\vec{y}_{1}$ e ajustar o seu modelo e depois gerar $X_{2}$ e $\\vec{y}_{2}$  e avaliar o modelo ajustado."
   ]
  },
  {
   "cell_type": "code",
   "execution_count": 5,
   "metadata": {},
   "outputs": [],
   "source": [
    "class LinearRegression:\n",
    "    def fit(self,X,y):\n",
    "        self.coef = np.linalg.inv(X.transpose() @ X) @ X.transpose() @ y\n",
    "        return self # Permite usar o objeto assim que criado\n",
    "    \n",
    "    def predict(self, X):\n",
    "        return X @ self.coef\n",
    "    \n",
    "    def score(self, X, y):\n",
    "        return np.mean((y - self.predict(X))**2)"
   ]
  },
  {
   "cell_type": "code",
   "execution_count": 7,
   "metadata": {},
   "outputs": [
    {
     "name": "stdout",
     "output_type": "stream",
     "text": [
      "[[0.38140576 0.79472444]\n",
      " [0.83723106 0.29058078]\n",
      " [0.06384561 0.41192892]\n",
      " [0.73589209 0.52317554]\n",
      " [0.00228603 0.53305588]]\n",
      "\n",
      "[3.89229626 3.39653594 1.88252056 4.14314732 1.93126192]\n",
      "\n",
      "Coeficientes: [2.85078609 3.68470903]\n",
      "\n",
      "Predição: [4.01563454 3.45747228 1.69984839 4.02562056 1.97067279]\n",
      "\n",
      "E.Q.M.: 0.013532089274704168\n"
     ]
    }
   ],
   "source": [
    "np.random.seed(3122019)\n",
    "\n",
    "f = lambda x: 2*x[:,0]**2 + 3*x[:,1] + 1\n",
    "\n",
    "X, y = generate_data(f,5,2)\n",
    "\n",
    "# X = np.random.random((5,5))\n",
    "# y = np.apply_along_axis(sum, 1, X) + np.random.normal(3, 2, 5)\n",
    "\n",
    "print(X)\n",
    "print()\n",
    "print(y)\n",
    "print()\n",
    "\n",
    "LR = LinearRegression().fit(X,y)\n",
    "print('Coeficientes:',LR.coef)\n",
    "print()\n",
    "print('Predição:',LR.predict(X))\n",
    "print()\n",
    "print('E.Q.M.:', LR.score(X,y))"
   ]
  },
  {
   "cell_type": "code",
   "execution_count": null,
   "metadata": {},
   "outputs": [],
   "source": []
  }
 ],
 "metadata": {
  "kernelspec": {
   "display_name": "Python 3",
   "language": "python",
   "name": "python3"
  },
  "language_info": {
   "codemirror_mode": {
    "name": "ipython",
    "version": 3
   },
   "file_extension": ".py",
   "mimetype": "text/x-python",
   "name": "python",
   "nbconvert_exporter": "python",
   "pygments_lexer": "ipython3",
   "version": "3.7.0"
  }
 },
 "nbformat": 4,
 "nbformat_minor": 2
}
