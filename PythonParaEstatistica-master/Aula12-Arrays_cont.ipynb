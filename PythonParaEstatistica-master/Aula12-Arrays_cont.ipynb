{
 "cells": [
  {
   "cell_type": "markdown",
   "metadata": {},
   "source": [
    "# Aula 12 (26/11/2019)\n",
    "\n",
    "## Arrays com Numpy (continuação)"
   ]
  },
  {
   "cell_type": "code",
   "execution_count": 2,
   "metadata": {},
   "outputs": [],
   "source": [
    "import numpy as np"
   ]
  },
  {
   "cell_type": "markdown",
   "metadata": {},
   "source": [
    "**Cópias e vistas**\n",
    "\n",
    "Ao operar com *arrays*, os dados são às vezes copiados em um novo *array* e às vezes não, o que pode confundir iniciantes. Por exemplo, atribuições simples não criam cópias do *array*, i.e. elas apenas criam ponteiros para o mesmo objeto:"
   ]
  },
  {
   "cell_type": "code",
   "execution_count": 11,
   "metadata": {},
   "outputs": [
    {
     "name": "stdout",
     "output_type": "stream",
     "text": [
      "True\n",
      "(3, 4)\n"
     ]
    }
   ],
   "source": [
    "a = np.arange(12)\n",
    "b = a  # 'b' é um pointeiro que aponta ao mesmo valor que 'a' \n",
    "print(b is a)\n",
    "\n",
    "b.shape = 3,4  # outra forma de mudar a forma de um array\n",
    "print(a.shape)  # o comando acima muda a forma de a também"
   ]
  },
  {
   "cell_type": "markdown",
   "metadata": {},
   "source": [
    "Ao chamar funções, Python passa objetos mutáveis como referências, portanto quando um *array* é passado como argumento para uma função, o mesmo objeto estará disponível no escopo da função chamada. Isto é, a função não recebe os valores do objeto, mas um ponteiro para esses valores:"
   ]
  },
  {
   "cell_type": "code",
   "execution_count": 5,
   "metadata": {},
   "outputs": [
    {
     "name": "stdout",
     "output_type": "stream",
     "text": [
      "560789256752\n",
      "560789256752\n"
     ]
    }
   ],
   "source": [
    "# Exemplo: a função id() verifica o endereço de memória em que o vlaor de uma variável está guardado.\n",
    "# Issopode ser usado para verificar se dois objetos são na verdade o mesmo. \n",
    "def f(x):\n",
    "    print(id(x))\n",
    "\n",
    "print(id(a))\n",
    "f(a)"
   ]
  },
  {
   "cell_type": "markdown",
   "metadata": {},
   "source": [
    "O método *view* cria um novo objeto, mas esse novo objeto \"olha\" para os mesmos dados, ou seja, ele é uma \"vista\". Vejamos:"
   ]
  },
  {
   "cell_type": "code",
   "execution_count": 12,
   "metadata": {},
   "outputs": [
    {
     "name": "stdout",
     "output_type": "stream",
     "text": [
      "False\n",
      "True\n",
      "(3, 4)\n",
      "[[   0    1    2    3]\n",
      " [1234    5    6    7]\n",
      " [   8    9   10   11]]\n"
     ]
    }
   ],
   "source": [
    "# 'a' é uma vista de 'c'.\n",
    "c = a.view()\n",
    "print(c is a)\n",
    "print(c.base is a)\n",
    "\n",
    "# Observe que alterar a forma de 'c' não altera a forma de 'a'...\n",
    "c.shape = 2,6\n",
    "print(a.shape)\n",
    "\n",
    "# ...mas alterar algum valor de 'c' também altera esse valor em 'a'. \n",
    "c[0,4] = 1234\n",
    "print(a)\n",
    "\n",
    "# Ou seja, tanto 'c' quanto 'a' apontam para os mesmos endereços de mémória,\n",
    "# mas representam seus valores de maneiras diferentes."
   ]
  },
  {
   "cell_type": "markdown",
   "metadata": {},
   "source": [
    "Uma fatia de um array retorna uma vista:"
   ]
  },
  {
   "cell_type": "code",
   "execution_count": 13,
   "metadata": {},
   "outputs": [
    {
     "name": "stdout",
     "output_type": "stream",
     "text": [
      "[[ 1  2]\n",
      " [ 5  6]\n",
      " [ 9 10]]\n",
      "[[   0   10   10    3]\n",
      " [1234   10   10    7]\n",
      " [   8   10   10   11]]\n"
     ]
    }
   ],
   "source": [
    "# 's' contém uma fatia de valores de 'a'.\n",
    "s = a[:,1:3]\n",
    "print(s)\n",
    "\n",
    "# Alterar os valores de 's' também os altera em 'a.'\n",
    "s[:] = 10\n",
    "print(a)"
   ]
  },
  {
   "cell_type": "markdown",
   "metadata": {},
   "source": [
    "Para obter uma cópia independente de um *array*, usa-se o método *copy*:"
   ]
  },
  {
   "cell_type": "code",
   "execution_count": 15,
   "metadata": {},
   "outputs": [
    {
     "name": "stdout",
     "output_type": "stream",
     "text": [
      "False\n",
      "False\n",
      "[[   0   10   10    3]\n",
      " [1234   10   10    7]\n",
      " [   8   10   10   11]]\n",
      "[[9999   10   10    3]\n",
      " [1234   10   10    7]\n",
      " [   8   10   10   11]]\n"
     ]
    }
   ],
   "source": [
    "# 'd' é uma cópia de 'a': mesmos valores, mas em endereços de memória diferentes.\n",
    "d = a.copy()\n",
    "print(d is a)\n",
    "print(d.base is a)\n",
    "\n",
    "d[0,0] = 9999\n",
    "print(a)\n",
    "print(d)"
   ]
  },
  {
   "cell_type": "markdown",
   "metadata": {},
   "source": [
    "**Álgebra linear**\n",
    "\n",
    "A maior parte das funções de álgebra linear de NumPy estão disponíveis no módulo *np.linalg*. Algumas funções importantes incluem calcular a inversa de uma matriz:"
   ]
  },
  {
   "cell_type": "code",
   "execution_count": 20,
   "metadata": {},
   "outputs": [
    {
     "name": "stdout",
     "output_type": "stream",
     "text": [
      "[[-2.   1. ]\n",
      " [ 1.5 -0.5]]\n"
     ]
    },
    {
     "data": {
      "text/plain": [
       "array([[1.00000000e+00, 1.11022302e-16],\n",
       "       [0.00000000e+00, 1.00000000e+00]])"
      ]
     },
     "execution_count": 20,
     "metadata": {},
     "output_type": "execute_result"
    }
   ],
   "source": [
    "a = np.array([[1.0, 2.0], [3.0, 4.0]])\n",
    "b = np.linalg.inv(a)\n",
    "print(b)\n",
    "\n",
    "a.dot(b)"
   ]
  },
  {
   "cell_type": "markdown",
   "metadata": {},
   "source": [
    "Calcular a pseudoinversa de uma matriz (se a matriz for invertível, a inversa será calculada):"
   ]
  },
  {
   "cell_type": "code",
   "execution_count": 21,
   "metadata": {},
   "outputs": [
    {
     "name": "stdout",
     "output_type": "stream",
     "text": [
      "[[-2.   1. ]\n",
      " [ 1.5 -0.5]]\n"
     ]
    }
   ],
   "source": [
    "print(np.linalg.pinv(a))"
   ]
  },
  {
   "cell_type": "markdown",
   "metadata": {},
   "source": [
    "Calcular o determinante e o traço de uma matriz:"
   ]
  },
  {
   "cell_type": "code",
   "execution_count": 23,
   "metadata": {},
   "outputs": [
    {
     "name": "stdout",
     "output_type": "stream",
     "text": [
      "-2.0000000000000004\n",
      "5.0\n"
     ]
    }
   ],
   "source": [
    "print(np.linalg.det(a))\n",
    "print(np.trace(a))  # o traço está disponível no próprio np"
   ]
  },
  {
   "cell_type": "markdown",
   "metadata": {},
   "source": [
    "Obter a diagonal de uma matriz como um vetor:"
   ]
  },
  {
   "cell_type": "code",
   "execution_count": 25,
   "metadata": {},
   "outputs": [
    {
     "data": {
      "text/plain": [
       "array([1., 4.])"
      ]
     },
     "execution_count": 25,
     "metadata": {},
     "output_type": "execute_result"
    }
   ],
   "source": [
    "np.diag(a)"
   ]
  },
  {
   "cell_type": "markdown",
   "metadata": {},
   "source": [
    "Obter uma matriz diagonal a partir de um vetor:"
   ]
  },
  {
   "cell_type": "code",
   "execution_count": 29,
   "metadata": {},
   "outputs": [
    {
     "name": "stdout",
     "output_type": "stream",
     "text": [
      "[1. 4.]\n"
     ]
    },
    {
     "data": {
      "text/plain": [
       "array([[1., 0.],\n",
       "       [0., 4.]])"
      ]
     },
     "execution_count": 29,
     "metadata": {},
     "output_type": "execute_result"
    }
   ],
   "source": [
    "d = np.diag(a)\n",
    "print(d)\n",
    "np.diag(d)"
   ]
  },
  {
   "cell_type": "markdown",
   "metadata": {},
   "source": [
    "Resolve um sistema de equações lineares:"
   ]
  },
  {
   "cell_type": "code",
   "execution_count": 32,
   "metadata": {},
   "outputs": [
    {
     "data": {
      "text/plain": [
       "array([[-3.],\n",
       "       [ 4.]])"
      ]
     },
     "execution_count": 32,
     "metadata": {},
     "output_type": "execute_result"
    }
   ],
   "source": [
    "y = np.array([[5.0], [7.0]])\n",
    "np.linalg.solve(a, y)"
   ]
  },
  {
   "cell_type": "code",
   "execution_count": 33,
   "metadata": {},
   "outputs": [
    {
     "data": {
      "text/plain": [
       "(array([-0.37228132,  5.37228132]), array([[-0.82456484, -0.41597356],\n",
       "        [ 0.56576746, -0.90937671]]))"
      ]
     },
     "execution_count": 33,
     "metadata": {},
     "output_type": "execute_result"
    }
   ],
   "source": [
    "np.linalg.eig(a)  # retorna uma tupla (autovalores, autovetores)"
   ]
  },
  {
   "cell_type": "markdown",
   "metadata": {},
   "source": [
    "**Ordenando arrays** \n",
    "NumPy oferece algumas funções para ordenar *arrays*. A principal delas é a função *sort*, que retorna uma cópia ordenada do *array* passado como parâmetro"
   ]
  },
  {
   "cell_type": "code",
   "execution_count": 35,
   "metadata": {},
   "outputs": [
    {
     "name": "stdout",
     "output_type": "stream",
     "text": [
      "[-4 -1  0  1  2  7  9 12 13]\n",
      "[12  9 13 -1  0 -4  2  7  1]\n"
     ]
    }
   ],
   "source": [
    "a = np.array([12, 9, 13, -1, 0, -4, 2, 7, 1])\n",
    "print(np.sort(a))\n",
    "print(a)"
   ]
  },
  {
   "cell_type": "markdown",
   "metadata": {},
   "source": [
    "Caso a seja um *array* multidimensional, pode-se usar o parâmetro *axis* para indicar através de qual eixo a ordenação deve ser feita."
   ]
  },
  {
   "cell_type": "code",
   "execution_count": 38,
   "metadata": {},
   "outputs": [
    {
     "name": "stdout",
     "output_type": "stream",
     "text": [
      "[[12  9 13]\n",
      " [-1  0 -4]\n",
      " [ 2  7  1]]\n",
      "\n",
      "[-4 -1  0  1  2  7  9 12 13]\n",
      "\n",
      "[[-1  0 -4]\n",
      " [ 2  7  1]\n",
      " [12  9 13]]\n",
      "\n",
      "[[ 9 12 13]\n",
      " [-4 -1  0]\n",
      " [ 1  2  7]]\n",
      "\n",
      "[[12  9 13]\n",
      " [-1  0 -4]\n",
      " [ 2  7  1]]\n"
     ]
    }
   ],
   "source": [
    "b = np.array([[12, 9, 13], [-1, 0, -4], [2, 7, 1]])\n",
    "print(b)\n",
    "print()\n",
    "print(np.sort(b, axis = None))  # se axis for None, o array é aplainado antes de ordenar\n",
    "print()\n",
    "print(np.sort(b, axis = 0))  # axis = 0 irá ordenar através das linhas\n",
    "print()\n",
    "print(np.sort(b, axis = 1))  # axis = 1 irá ordenar através das colunas\n",
    "print()\n",
    "print(b)"
   ]
  },
  {
   "cell_type": "markdown",
   "metadata": {},
   "source": [
    "Também é possível escolher o algoritmo de ordenação usando o parâmetro *kind* (cujo valor padrão é 'quicksort'):"
   ]
  },
  {
   "cell_type": "code",
   "execution_count": 39,
   "metadata": {},
   "outputs": [
    {
     "name": "stdout",
     "output_type": "stream",
     "text": [
      "[-4 -1  0  1  2  7  9 12 13]\n"
     ]
    }
   ],
   "source": [
    "print(np.sort(a, kind = 'mergesort'))"
   ]
  },
  {
   "cell_type": "markdown",
   "metadata": {},
   "source": [
    "Outra função importante é *argsort*, que ao invés de retornar o *array* ordenado, retorna os índices do *array* nas posições corretas para ordená-lo. A função *argsort* aceita os mesmos parâmetros da função *sort*."
   ]
  },
  {
   "cell_type": "code",
   "execution_count": 40,
   "metadata": {},
   "outputs": [
    {
     "name": "stdout",
     "output_type": "stream",
     "text": [
      "[12  9 13 -1  0 -4  2  7  1]\n",
      "[5 3 4 8 6 7 1 0 2]\n",
      "[-4 -1  0  1  2  7  9 12 13]\n",
      "\n",
      "[[1 0 1]\n",
      " [2 2 0]\n",
      " [0 1 2]]\n"
     ]
    }
   ],
   "source": [
    "print(a)\n",
    "print(np.argsort(a))\n",
    "print(a[np.argsort(a)])\n",
    "print()\n",
    "\n",
    "b = np.array([\n",
    "    [12, 0, 1], \n",
    "    [-1, 9, -4], \n",
    "    [2, 7, 13]\n",
    "])\n",
    "print(np.argsort(b, axis=0))"
   ]
  },
  {
   "cell_type": "markdown",
   "metadata": {},
   "source": [
    "**Buscando valores**\n",
    "\n",
    "As funções *amax* e *ami*n retornam o menor e o maior valor do *array*, respectivamente. Naturalmente, é possível definir o eixo desejado usando o parâmetro *axis*."
   ]
  },
  {
   "cell_type": "code",
   "execution_count": 42,
   "metadata": {},
   "outputs": [
    {
     "name": "stdout",
     "output_type": "stream",
     "text": [
      "13\n",
      "-4\n",
      "\n",
      "[-1  0 -4]\n",
      "[12  9 13]\n",
      "\n",
      "[ 0 -4  2]\n",
      "[12  9 13]\n"
     ]
    }
   ],
   "source": [
    "b = np.array([\n",
    "    [12, 0, 1], \n",
    "    [-1, 9, -4], \n",
    "    [2, 7, 13]\n",
    "])\n",
    "\n",
    "print(np.amax(b))\n",
    "print(np.amin(b))\n",
    "print()\n",
    "\n",
    "print(np.amin(b, axis = 0))  # menor elemento de cada coluna\n",
    "print(np.amax(b, axis = 0))  # maior elemento de cada coluna\n",
    "print()\n",
    "print(np.amin(b, axis = 1))  # menor elemento de cada linha\n",
    "print(np.amax(b, axis = 1))  # maior elemento de cada linha"
   ]
  },
  {
   "cell_type": "markdown",
   "metadata": {},
   "source": [
    "De maneira similar à função *argsort*, as funções *argmax* e *argmin* retornam os índices do maior ou do menor elemento do array, respectivamente, sendo possível definir o eixo desejado."
   ]
  },
  {
   "cell_type": "code",
   "execution_count": 44,
   "metadata": {},
   "outputs": [
    {
     "name": "stdout",
     "output_type": "stream",
     "text": [
      "[[12  0  1]\n",
      " [-1  9 -4]\n",
      " [ 2  7 13]]\n",
      "\n",
      "8\n",
      "5\n",
      "\n",
      "[1 0 1]\n",
      "[0 1 2]\n",
      "\n",
      "[1 2 0]\n",
      "[0 1 2]\n"
     ]
    }
   ],
   "source": [
    "print(b)\n",
    "print()\n",
    "\n",
    "print(np.argmax(b))  # considera o array aplainado (b.ravel())\n",
    "print(np.argmin(b))\n",
    "print()\n",
    "\n",
    "print(np.argmin(b, axis = 0))  # posição do menor elemento de cada coluna\n",
    "print(np.argmax(b, axis = 0))  # posição do maior elemento de cada coluna\n",
    "print()\n",
    "print(np.argmin(b, axis = 1))  # posição do menor elemento de cada linha\n",
    "print(np.argmax(b, axis = 1))  # posição do maior elemento de cada linha"
   ]
  },
  {
   "cell_type": "markdown",
   "metadata": {},
   "source": [
    "Uma outra função importante para encontrar valores em um *array* é a função *where*, que retorna uma tupla com os índices em que uma condição é verdadeira."
   ]
  },
  {
   "cell_type": "code",
   "execution_count": 46,
   "metadata": {},
   "outputs": [
    {
     "name": "stdout",
     "output_type": "stream",
     "text": [
      "[[12  0  1]\n",
      " [-1  9 -4]\n",
      " [ 2  7 13]]\n",
      "[[False  True  True]\n",
      " [ True False  True]\n",
      " [ True False False]]\n",
      "(array([0, 0, 1, 1, 2], dtype=int64), array([1, 2, 0, 2, 0], dtype=int64))\n"
     ]
    }
   ],
   "source": [
    "print(b)\n",
    "\n",
    "print(b < 5)\n",
    "print(np.where(b < 5))"
   ]
  },
  {
   "cell_type": "markdown",
   "metadata": {},
   "source": [
    "**Geração de números aleatórios**\n",
    "\n",
    "A biblioteca NumPy fornece diversas funções de geração de números aleatórios por meio do pacote *random*. Por exemplo, para gerar números no intervalo $[0.0, 1.0)$ uniformemente, pode-se usar a função random:"
   ]
  },
  {
   "cell_type": "code",
   "execution_count": 47,
   "metadata": {},
   "outputs": [
    {
     "name": "stdout",
     "output_type": "stream",
     "text": [
      "0.12162849485220772\n",
      "[0.73605826 0.43924346 0.49753727]\n",
      "[[0.09440913 0.89532489]\n",
      " [0.45251301 0.49487529]\n",
      " [0.86723657 0.93108637]]\n"
     ]
    }
   ],
   "source": [
    "print(np.random.random())  # apenas um número\n",
    "print(np.random.random(3))  # vetor com 3 números aleatórios\n",
    "print(np.random.random((3, 2)))  # matriz aleatória 3x2"
   ]
  },
  {
   "cell_type": "markdown",
   "metadata": {},
   "source": [
    "Para gerar inteiros uniformemente no intervalo $[a, b)$, pode-se usar a função *randint*:"
   ]
  },
  {
   "cell_type": "code",
   "execution_count": 48,
   "metadata": {},
   "outputs": [
    {
     "name": "stdout",
     "output_type": "stream",
     "text": [
      "3\n",
      "1\n",
      "[[2 4]\n",
      " [2 3]\n",
      " [3 3]]\n"
     ]
    }
   ],
   "source": [
    "print(np.random.randint(2, 5))  # inteiro em [2, 5)\n",
    "print(np.random.randint(5))  # inteiro em [0, 5)\n",
    "print(np.random.randint(2, 5, (3, 2)))  # matriz aleatória 3x2 em [2, 5)"
   ]
  },
  {
   "cell_type": "markdown",
   "metadata": {},
   "source": [
    "Para obter uma amostra aleatória de um *array*, usa-se a função *choice*:"
   ]
  },
  {
   "cell_type": "code",
   "execution_count": null,
   "metadata": {},
   "outputs": [],
   "source": []
  },
  {
   "cell_type": "code",
   "execution_count": null,
   "metadata": {},
   "outputs": [],
   "source": []
  },
  {
   "cell_type": "code",
   "execution_count": 51,
   "metadata": {},
   "outputs": [
    {
     "name": "stdout",
     "output_type": "stream",
     "text": [
      "[12  9 13  1  0  4  2  7  1]\n",
      "\n",
      "7\n",
      "\n",
      "[1 2 1]\n",
      "\n",
      "[[1 1]\n",
      " [7 1]\n",
      " [9 1]]\n",
      "\n",
      "[13  0  4]\n",
      "\n",
      "[4 7 9]\n",
      "\n",
      "1\n"
     ]
    }
   ],
   "source": [
    "a = abs(a)\n",
    "\n",
    "print(a)\n",
    "print()\n",
    "\n",
    "# Um elemento aleatório de 'a'\n",
    "print(np.random.choice(a))  \n",
    "print()\n",
    "\n",
    " # Três elementos aleatórios de 'a'\n",
    "print(np.random.choice(a, 3)) \n",
    "print()\n",
    "\n",
    "# Seis elementos aleatórios de a na forma 3x2\n",
    "print(np.random.choice(a, (3, 2)))  \n",
    "print()\n",
    "\n",
    " # Três elementos aleatórios de a sem reposição\n",
    "print(np.random.choice(a, 3, replace=False)) \n",
    "print()\n",
    "\n",
    "# Três elementos aleatórios de a sem reposição com probabilidades diferentes\n",
    "print(\n",
    "    np.random.choice(\n",
    "        a, \n",
    "        3,\n",
    "        replace=False,\n",
    "        # Cada elemento 'x' tem probilidade de inclusão igual a 'x'/(soma dos elementos de 'a')\n",
    "        p = a/np.sum(a)\n",
    "    )\n",
    ")  # três elementos aleatórios de a sem reposição e com diferentes probabilidades\n",
    "print()\n",
    "\n",
    "# Um elemento aleatório no range(5)\n",
    "print(np.random.choice(5)) "
   ]
  },
  {
   "cell_type": "code",
   "execution_count": 52,
   "metadata": {},
   "outputs": [
    {
     "name": "stdout",
     "output_type": "stream",
     "text": [
      "[ 4  9  2 11  0  6  8  3 10  1  7  5]\n"
     ]
    }
   ],
   "source": [
    "a = np.arange(12)\n",
    "\n",
    "np.random.shuffle(a)\n",
    "print(a)"
   ]
  },
  {
   "cell_type": "markdown",
   "metadata": {},
   "source": [
    "*Arrays* multidimensionais são embaralhados apenas no primeiro eixo:"
   ]
  },
  {
   "cell_type": "code",
   "execution_count": 54,
   "metadata": {},
   "outputs": [
    {
     "name": "stdout",
     "output_type": "stream",
     "text": [
      "[[ 0  1  2  3]\n",
      " [ 4  5  6  7]\n",
      " [ 8  9 10 11]]\n",
      "[[ 0  1  2  3]\n",
      " [ 8  9 10 11]\n",
      " [ 4  5  6  7]]\n"
     ]
    }
   ],
   "source": [
    "a = np.arange(12).reshape(3, 4)\n",
    "print(a)\n",
    "np.random.shuffle(a)\n",
    "print(a)"
   ]
  },
  {
   "cell_type": "markdown",
   "metadata": {},
   "source": [
    "Por curiosidade, para embaralhar também as colunas em um *array* 2D, pode-se usar a função de programação funcional *apply_along_axis*, que aplica uma função a um eixo do *array*."
   ]
  },
  {
   "cell_type": "code",
   "execution_count": 55,
   "metadata": {},
   "outputs": [
    {
     "name": "stdout",
     "output_type": "stream",
     "text": [
      "[[ 4  5 10  3]\n",
      " [ 8  9  2  7]\n",
      " [ 0  1  6 11]]\n",
      "\n",
      "[[10  3  4  5]\n",
      " [ 7  8  9  2]\n",
      " [ 1 11  6  0]]\n"
     ]
    }
   ],
   "source": [
    "np.apply_along_axis(np.random.shuffle, 0, a)\n",
    "print(a)\n",
    "print()\n",
    "np.apply_along_axis(np.random.shuffle, 1, a)\n",
    "print(a)"
   ]
  },
  {
   "cell_type": "code",
   "execution_count": 56,
   "metadata": {},
   "outputs": [
    {
     "name": "stdout",
     "output_type": "stream",
     "text": [
      "[[ 1 11  4  5]\n",
      " [10  3  6  0]\n",
      " [ 7  8  9  2]]\n",
      "\n",
      "[[ 4  1 11  5]\n",
      " [ 6  3 10  0]\n",
      " [ 8  9  2  7]]\n"
     ]
    }
   ],
   "source": [
    "np.apply_along_axis(np.random.shuffle, 0, a)\n",
    "print(a)\n",
    "print()\n",
    "np.apply_along_axis(np.random.shuffle, 1, a)\n",
    "print(a)"
   ]
  },
  {
   "cell_type": "markdown",
   "metadata": {},
   "source": [
    "De forma similar à função *shuffle*, a função *permutation* também embaralha os conteúdos de um *array*, no entanto ela retorna um novo *array* como resultado. Caso o *array* seja multidimensional, ela também só embaralha o primeiro eixo. Uma diferença em relação à função *shuffle* é que ela pode receber como parâmetro um inteiro x, ao invés de um *array*. Nesse caso, ela retornará uma permutação do **range**(x)."
   ]
  },
  {
   "cell_type": "code",
   "execution_count": 57,
   "metadata": {},
   "outputs": [
    {
     "name": "stdout",
     "output_type": "stream",
     "text": [
      "[ 0  1  2  3  4  5  6  7  8  9 10 11]\n",
      "[ 5  2  0  6  9 11  8  3 10  7  4  1]\n",
      "[ 0  1  2  3  4  5  6  7  8  9 10 11]\n",
      "\n"
     ]
    }
   ],
   "source": [
    "a = np.arange(12)\n",
    "print(a)\n",
    "print(np.random.permutation(a))\n",
    "print(a)\n",
    "print()"
   ]
  },
  {
   "cell_type": "markdown",
   "metadata": {},
   "source": [
    "Em simulações estatísticas e experimentos, é fundamental que os resultados sejam reproduzíveis. Para isso, é preciso que os valores aleatórios gerados durante a execução sejam os mesmos sempre que script for executado. Para isso, pode-se determinar a \"semente\" do gerador de números pseudoaleatórios do NumPy, usando a função *random.seed*. Por exemplo: número gerado pelo código abaixo será sempre o mesmo: 0.3745401188473625"
   ]
  },
  {
   "cell_type": "code",
   "execution_count": 59,
   "metadata": {},
   "outputs": [
    {
     "name": "stdout",
     "output_type": "stream",
     "text": [
      "0.3745401188473625\n"
     ]
    }
   ],
   "source": [
    "np.random.seed(42)\n",
    "print(np.random.random())"
   ]
  },
  {
   "cell_type": "markdown",
   "metadata": {},
   "source": [
    "**Gerando amostras de diversas distribuições**\n",
    "\n",
    "Os valores que geramos até agora foram todos uniformemente distribuídos, mas NumPy oferece funções para gerar amostras de mais de 30 [distribuições](https://numpy.org/doc/1.16/reference/routines.random.html), incluindo normal, beta, log-normal, qui-quadrado, Dirichlet, exponencial, etc. De uma maneira geral, essas funções recebem como parâmetros os parâmetros da distribuição desejada e o tamanho da amostra:"
   ]
  },
  {
   "cell_type": "code",
   "execution_count": 60,
   "metadata": {},
   "outputs": [
    {
     "name": "stdout",
     "output_type": "stream",
     "text": [
      "[[-0.8067671   1.71470767]\n",
      " [ 2.70064574  0.49837748]\n",
      " [-1.39849971  3.96834512]]\n",
      "\n",
      "[[0.67097421 0.39601039]\n",
      " [0.20576643 0.43998161]\n",
      " [0.6711851  0.22902454]]\n",
      "\n",
      "[[0.39958637 0.45139577 0.14901786]\n",
      " [0.27586906 0.20884218 0.51528876]\n",
      " [0.16171136 0.56500702 0.27328162]]\n",
      "\n"
     ]
    }
   ],
   "source": [
    "np.random.seed(26112019)\n",
    "print(np.random.normal(0, 2, (3,2)))  # Matriz 3x2 seguindo N(0, 4)\n",
    "print()\n",
    "print(np.random.beta(1, 2, (3,2)))  # Matriz 3x2 seguindo Beta(1, 2)\n",
    "print()\n",
    "print(np.random.dirichlet((1, 2, 1), 3))  # Matriz com 3 vetores que seguem Dirichlet(1, 2, 1)\n",
    "print()"
   ]
  },
  {
   "cell_type": "markdown",
   "metadata": {},
   "source": [
    "## Exercício\n",
    "\n",
    "Gere dois vetores X e Y com valores aleatórios e depois ajuste uma regressão linear simples usando o Numpy."
   ]
  },
  {
   "cell_type": "code",
   "execution_count": 97,
   "metadata": {},
   "outputs": [
    {
     "name": "stdout",
     "output_type": "stream",
     "text": [
      "[ 1.85764116  4.05722174  2.28326194  3.32981198  1.84537815  1.93096914\n",
      "  2.75518049  2.82564665  1.88693079 -0.36783759  1.83295057  2.68539797\n",
      "  2.02350011  2.45620128  2.27049278  0.56499186  2.88281715  1.41991834\n",
      "  1.4984347   2.59095329  1.26838375  2.26175546  1.14420442  1.81247409\n",
      "  1.62651371  1.53802903  1.1835339   1.9548767   2.12132778  2.92595278\n",
      "  1.4261803   2.05270311  4.20731059  2.39182187  2.48271343  2.43333402\n",
      "  0.29570831  1.75609193 -0.13970379  2.86132265]\n",
      "\n",
      "[ 8.41556671 10.58565867  9.3300018   8.53801613  5.49882213  7.4146702\n",
      "  7.69438002  8.15464645  7.86008714  1.28964953  6.38376532  8.25358179\n",
      "  7.42554748  8.64459721  7.43741453  2.93127743  9.77566987  8.715197\n",
      "  6.81718204  8.74251809  5.1611253   7.27140662  3.89879539  7.24228045\n",
      "  6.11724037  7.36396302  4.33007339  8.27408553  6.93269892  8.24078844\n",
      "  5.36925483  6.49642253  9.32628588  8.42296574  8.73973081  9.14523744\n",
      "  4.29669263  7.16816125  1.04209038  8.90575517]\n"
     ]
    }
   ],
   "source": [
    "np.random.seed(99)\n",
    "X = np.random.normal(2,1,40)\n",
    "Y = 2*X + 3 + np.random.normal(0,1,40)\n",
    "\n",
    "print(X)\n",
    "print()\n",
    "print(Y)"
   ]
  },
  {
   "cell_type": "code",
   "execution_count": 98,
   "metadata": {},
   "outputs": [
    {
     "name": "stdout",
     "output_type": "stream",
     "text": [
      "2.0066092993358935 3.0663554378317572\n"
     ]
    }
   ],
   "source": [
    "X_barra = np.mean(X)\n",
    "Y_barra = np.mean(Y)\n",
    "\n",
    "beta = np.sum((X - X_barra)*(Y - X_barra))/np.sum((X - X_barra)**2)\n",
    "\n",
    "alfa = np.mean(Y) - beta*X_barra\n",
    "\n",
    "print(beta, alfa)"
   ]
  },
  {
   "cell_type": "code",
   "execution_count": 78,
   "metadata": {},
   "outputs": [],
   "source": [
    "import matplotlib.pyplot as plt "
   ]
  },
  {
   "cell_type": "code",
   "execution_count": 100,
   "metadata": {},
   "outputs": [
    {
     "data": {
      "image/png": "[encoded data removed]",
      "text/plain": [
       "<Figure size 432x288 with 1 Axes>"
      ]
     },
     "metadata": {
      "needs_background": "light"
     },
     "output_type": "display_data"
    }
   ],
   "source": [
    "X_ord = np.sort(X)\n",
    "\n",
    "plt.scatter(X,Y, color = 'r')\n",
    "plt.plot(X_ord,X_ord*beta + alfa)\n",
    "plt.grid(True)"
   ]
  },
  {
   "cell_type": "code",
   "execution_count": null,
   "metadata": {},
   "outputs": [],
   "source": []
  }
 ],
 "metadata": {
  "kernelspec": {
   "display_name": "Python 3",
   "language": "python",
   "name": "python3"
  },
  "language_info": {
   "codemirror_mode": {
    "name": "ipython",
    "version": 3
   },
   "file_extension": ".py",
   "mimetype": "text/x-python",
   "name": "python",
   "nbconvert_exporter": "python",
   "pygments_lexer": "ipython3",
   "version": "3.7.0"
  }
 },
 "nbformat": 4,
 "nbformat_minor": 2
}
