{
 "cells": [
  {
   "cell_type": "markdown",
   "metadata": {},
   "source": [
    "# Aula 07 (07/11/2019)\n",
    "\n",
    "## Classes (continuação)\n",
    "\n",
    "## Exercício:\n",
    "\n",
    "Defina uma classe em Python que represente a distribuição de uma variável aleatória binomial, "
   ]
  },
  {
   "cell_type": "code",
   "execution_count": 20,
   "metadata": {},
   "outputs": [],
   "source": [
    "class BinomialDistribuition:\n",
    "    \n",
    "    def __init__(self, n, p):\n",
    "        self.n = n\n",
    "        self.p = p\n",
    "    \n",
    "    # Fatorial e combinação, usadas na funções da binomial:\n",
    "    \n",
    "    def fatorial(self, n):\n",
    "        if n == 1 or n == 0:\n",
    "            return 1\n",
    "        else:\n",
    "            prod = 1\n",
    "            for i in range(1,n + 1):\n",
    "                prod *= i\n",
    "        return prod\n",
    "    \n",
    "    def combination(self,n, x):\n",
    "        return self.fatorial(self.n) / (self.fatorial(x) * self.fatorial(self.n - x))\n",
    "\n",
    "    # Função densidade de probabilidade:\n",
    "    def fmp(self, x):\n",
    "        return self.combination(self.n, x)*(self.p**x)*(1 - self.p)**(self.n - x)\n",
    "        \n",
    "    # Função de distribuição\n",
    "    def fpa(self, x):\n",
    "        if x == self.n:\n",
    "            return 1\n",
    "        if x < 0:\n",
    "            return 0\n",
    "        return self.fmp(x) + self.fpa(x - 1)\n",
    "    \n",
    "    # Valor esperado:\n",
    "    def mean(self):\n",
    "        return self.n*self.p\n",
    "    \n",
    "    # Variância\n",
    "    def variance(self):\n",
    "        return self.n*self.p*(1 - self.p)"
   ]
  },
  {
   "cell_type": "code",
   "execution_count": 21,
   "metadata": {},
   "outputs": [
    {
     "name": "stdout",
     "output_type": "stream",
     "text": [
      "Valor Esperado: 3.5\n",
      "Variância: 1.0500\n",
      "Função de Probabilidade em x = 3: 0.31\n",
      "Função de Probabilidade Acumulada em x = 3: 0.47\n"
     ]
    }
   ],
   "source": [
    "bd = BinomialDistribuition(5,0.7)\n",
    "\n",
    "x = 3\n",
    "\n",
    "print('Valor Esperado: {}'.format(bd.mean()))\n",
    "print('Variância: {:.4f}'.format(bd.variance()))\n",
    "print('Função de Probabilidade em x = {:d}: {:.2f}'.format(x, bd.fmp(x)))\n",
    "print('Função de Probabilidade Acumulada em x = {:d}: {:.2f}'.format(x, bd.fpa(x)))"
   ]
  },
  {
   "cell_type": "code",
   "execution_count": 41,
   "metadata": {},
   "outputs": [],
   "source": [
    "import math\n",
    "\n",
    "class PoissonDistribution:\n",
    "    def __init__(self, l):\n",
    "        self.l = l\n",
    "        \n",
    "    def fatorial(self,x):\n",
    "        if x == 1 or x == 0:\n",
    "            return 1\n",
    "        else:\n",
    "            prod = 1\n",
    "            for i in range(1,x + 1):\n",
    "                prod *= i\n",
    "        return prod\n",
    "    \n",
    "    def mean(self):\n",
    "        return self.l\n",
    "    def variance(self):\n",
    "        return self.l\n",
    "    def fmp(self, x):\n",
    "        e = math.e\n",
    "        return (e**(-self.l))*(self.l**x)/(self.fatorial(x))\n",
    "    def fpa(self, x):\n",
    "        if x < 0:\n",
    "            return 0\n",
    "        return self.fmp(x) + self.fpa(x - 1) \n",
    "    "
   ]
  },
  {
   "cell_type": "code",
   "execution_count": 42,
   "metadata": {},
   "outputs": [
    {
     "name": "stdout",
     "output_type": "stream",
     "text": [
      "Valor esperado: 3\n",
      "Variância: 3\n",
      "Função de Probabilidade em x = 5: 0.10\n",
      "Função de Probabilidade Acumulada em x = 5: 0.92\n"
     ]
    }
   ],
   "source": [
    "pd = PoissonDistribution(3)\n",
    "\n",
    "print('Valor esperado: {}'.format(pd.mean()))\n",
    "print('Variância: {}'.format(pd.variance()))\n",
    "print('Função de Probabilidade em x = 5: {:.2f}'.format(pd.fmp(5)))\n",
    "print('Função de Probabilidade Acumulada em x = 5: {:.2f}'.format(pd.fpa(5)))"
   ]
  }
 ],
 "metadata": {
  "kernelspec": {
   "display_name": "Python 3",
   "language": "python",
   "name": "python3"
  },
  "language_info": {
   "codemirror_mode": {
    "name": "ipython",
    "version": 3
   },
   "file_extension": ".py",
   "mimetype": "text/x-python",
   "name": "python",
   "nbconvert_exporter": "python",
   "pygments_lexer": "ipython3",
   "version": "3.7.0"
  }
 },
 "nbformat": 4,
 "nbformat_minor": 2
}
